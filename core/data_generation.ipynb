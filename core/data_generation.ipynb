{
 "cells": [
  {
   "cell_type": "code",
   "execution_count": null,
   "metadata": {},
   "outputs": [],
   "source": [
    "'''\n",
    "Arquivos:\n",
    "- Estabelecer a forma de guardar os arquivos conforme necessidade da CNN\n",
    "\n",
    "Funções:\n",
    "- Função de importação de arquivo com as seguintes colunas:\n",
    "    Open High Low Close Volume + Indicadores\n",
    "  Esta mesma função fará os índices das linhas serem as datas\n",
    "- Função de escolha do intervalo de dias a terem o gráfico montado\n",
    "- Função que gera o gráfico de candlestick com volume e indicadores\n",
    "\n",
    "'''"
   ]
  },
  {
   "cell_type": "code",
   "execution_count": null,
   "metadata": {},
   "outputs": [],
   "source": [
    "import numpy as np\n",
    "import pandas as pd\n",
    "import matplotlib.pyplot as plt\n",
    "import mplfinance as mpf\n",
    "from datetime import datetime\n",
    "from datetime import timedelta\n",
    "from PIL import Image\n",
    "from glob import glob\n"
   ]
  },
  {
   "cell_type": "code",
   "execution_count": null,
   "metadata": {
    "tags": []
   },
   "outputs": [],
   "source": [
    "'''\n",
    "Importa os dados do ativo e renomeia as colunas\n",
    "'''\n",
    "\n",
    "asset = 'BTOW3'\n",
    "time_frame = '1d'\n",
    "file_name = asset + '_' + time_frame + '.xlsx'\n",
    "path = '../collected_ data/' + file_name\n",
    "\n",
    "inplace = True\n",
    "df_input = pd.read_excel(path)\n",
    "df_input.dropna(inplace = inplace)\n",
    "df_input.set_index('Data', inplace = inplace)\n",
    "df_input.sort_index(axis = 0, inplace = inplace)\n",
    "df_input.rename(inplace = inplace, columns = {\n",
    "    'Abertura': 'Open',\n",
    "    'Máxima': 'High',\n",
    "    'Mínima': 'Low',\n",
    "    'Fechamento': 'Close',\n",
    "    'Volume Financeiro': 'Volume',\n",
    "    'Média Móvel E [9]': 'MME009',\n",
    "    'Média Móvel A [21]': 'MMA021',\n",
    "    'Média Móvel A [200]': 'MMA200',\n",
    "    'Média Móvel A [51]': 'MMA051',\n",
    "    'Média Móvel A [80]': 'MMA080',\n",
    "    'Média Móvel A [400]': 'MMA400',\n",
    "    'Média Móvel E [400]': 'MME400'})\n",
    "\n",
    "# df_input.head()\n"
   ]
  },
  {
   "cell_type": "code",
   "execution_count": null,
   "metadata": {
    "tags": []
   },
   "outputs": [],
   "source": [
    "'''\n",
    "Cria reordena as colunas dos indicadores em ordem alfabética\n",
    "'''\n",
    "\n",
    "df_candle = df_input[['Open', 'High', 'Low', 'Close', 'Volume']]\n",
    "df_ind = df_input.reindex(sorted(df_input.columns[5:]), axis = 1)\n",
    "df = pd.concat([df_candle, df_ind], axis=1)\n",
    "\n",
    "# df.head()\n"
   ]
  },
  {
   "cell_type": "code",
   "execution_count": null,
   "metadata": {
    "tags": []
   },
   "outputs": [],
   "source": [
    "'''\n",
    "Verifica se o dataframe reordenado é igual ao original\n",
    "'''\n",
    "\n",
    "columns = list(df.columns)\n",
    "eq = True\n",
    "for col in columns:\n",
    "   eq = eq*df[col].equals(df_input[col])\n",
    "if eq:\n",
    "    print(\"Data Frame válido.\")\n",
    "else:\n",
    "    print(\"Data Frame inválido!!!!\")\n",
    "    "
   ]
  },
  {
   "cell_type": "code",
   "execution_count": null,
   "metadata": {
    "tags": []
   },
   "outputs": [],
   "source": [
    "'''\n",
    "Aprender a gerar os gráficos para então iterar os intervalos de data\n",
    "'''\n",
    "\n",
    "def date_delta(start_date, delta): # Função sem uso por enquanto\n",
    "    end_date = datetime.strptime(start_date, '%Y-%m-%d') + timedelta(days = delta)\n",
    "    return end_date.strftime('%Y-%m-%d')\n",
    "\n",
    "\n",
    "def clean_folder(path, match):\n",
    "    files_list = glob(path + f'/*{match}*')\n",
    "    # Escrever loop para deletar os arquivos da lista\n",
    "    return\n",
    "\n",
    "\n",
    "def gen_chart(df, date, trade_delta, min_profit, chart_delta, add, save_name):\n",
    "    end_index = df.index.get_loc(date)\n",
    "    start_index = end_index - chart_delta\n",
    "    \n",
    "    start_trade = df['Open'][end_index + 1]\n",
    "    end_trade = df['Close'][end_index + trade_delta]\n",
    "    if end_trade/start_trade >= 1 + min_profit/100:\n",
    "        trade_class = 'long'\n",
    "    elif end_trade/start_trade <= 1 - min_profit/100:\n",
    "        trade_class = 'short'\n",
    "    else:\n",
    "        trade_class = 'wait'\n",
    "\n",
    "    df_plot = df.iloc[start_index:end_index,:]\n",
    "    erase_color = 'black'\n",
    "\n",
    "    mc = mpf.make_marketcolors(up = 'g',down = 'r',\n",
    "                               wick = 'inherit',\n",
    "                               edge = 'inherit',\n",
    "                               volume = 'grey')\n",
    "    s = mpf.make_mpf_style(marketcolors = mc,\n",
    "                           facecolor = erase_color,\n",
    "                           edgecolor = erase_color,\n",
    "                           figcolor = erase_color)\n",
    "    addplot = mpf.make_addplot(df_plot[add])\n",
    "    plot = mpf.plot(df_plot, type = 'candle',\n",
    "                             volume = True,\n",
    "                             style = s,\n",
    "                             addplot = addplot,\n",
    "                             savefig = '../generated_data/plot.png')\n",
    "\n",
    "    uncropped_plot = Image.open('../generated_data/plot.png')\n",
    "    box = (uncropped_plot.size[0]*0.202,\n",
    "           uncropped_plot.size[1]*0.11,\n",
    "           uncropped_plot.size[0]*0.88,\n",
    "           uncropped_plot.size[1]*0.85)\n",
    "\n",
    "    file_name = f'../generated_data/{save_name}_{trade_class}.png'\n",
    "    cropped_plot = uncropped_plot.crop(box).save(file_name)\n",
    "    return (start_trade, end_trade, trade_class)\n",
    "    "
   ]
  },
  {
   "cell_type": "code",
   "execution_count": null,
   "metadata": {
    "tags": []
   },
   "outputs": [],
   "source": [
    "'''\n",
    "Chamamento das funções de geração dos gráficos\n",
    "Implementar o loop for\n",
    "'''\n",
    "\n",
    "date_range = pd.date_range(start='2020-02-01', end='2020-04-30')\n",
    "trade_delta = 3\n",
    "min_profit = 1 # in %\n",
    "chart_delta = 22\n",
    "ind_columns = list(df.columns)[5:9]\n",
    "\n",
    "for date in date_range:\n",
    "    try:\n",
    "        file_date = date.strftime('%Y-%m-%d')\n",
    "        save_name = f'{asset}_{file_date}'\n",
    "        out = gen_chart(df, date, trade_delta, min_profit, chart_delta, ind_columns, save_name)\n",
    "        print(f'{file_date} {out[0]} {out[1]} {out[2]}')\n",
    "    except KeyError:\n",
    "        continue\n",
    "    except IndexError:\n",
    "        continue\n"
   ]
  },
  {
   "cell_type": "code",
   "execution_count": null,
   "metadata": {},
   "outputs": [],
   "source": [
    "'''\n",
    "Escrever função que organiza aleatoriamente os arquivos em pastas\n",
    "Pastas: train, valid e test\n",
    "\n",
    "Cada classe terá o mesmo número de exemplos. Avaliar possibilidade de copiar ao invés de mover.\n",
    "Dica: files_distribution = [[long, n_long]],\n",
    "                            [short, n_short],\n",
    "                            [wait, n_wait]]\n",
    "      for class in files_distribution:\n",
    "          for file in random.sample(glob.glob(class[0] + '.*'), class[1]):\n",
    "              shutil.move(file, '/charts/' + class[0])\n",
    "'''"
   ]
  },
  {
   "cell_type": "code",
   "execution_count": null,
   "metadata": {},
   "outputs": [],
   "source": []
  }
 ],
 "metadata": {
  "kernelspec": {
   "display_name": "Python 3.7.7 64-bit ('Trade': conda)",
   "language": "python",
   "name": "python_defaultSpec_1597973328262"
  },
  "language_info": {
   "codemirror_mode": {
    "name": "ipython",
    "version": 3
   },
   "file_extension": ".py",
   "mimetype": "text/x-python",
   "name": "python",
   "nbconvert_exporter": "python",
   "pygments_lexer": "ipython3",
   "version": "3.7.7-final"
  }
 },
 "nbformat": 4,
 "nbformat_minor": 4
}