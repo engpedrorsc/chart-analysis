{
 "cells": [
  {
   "cell_type": "code",
   "execution_count": 1,
   "metadata": {},
   "outputs": [
    {
     "output_type": "execute_result",
     "data": {
      "text/plain": "'\\nArquivos:\\n- Estabelecer a forma de guardar os arquivos conforme necessidade da CNN\\n\\nFunções:\\n- Função de importação de arquivo com as seguintes colunas:\\n    Open High Low Close Volume + Indicadores\\n  Esta mesma função fará os índices das linhas serem as datas\\n- Função de escolha do intervalo de dias a terem o gráfico montado\\n- Função que gera o gráfico de candlestick com volume e indicadores\\n\\n'"
     },
     "metadata": {},
     "execution_count": 1
    }
   ],
   "source": [
    "'''\n",
    "Arquivos:\n",
    "- Estabelecer a forma de guardar os arquivos conforme necessidade da CNN\n",
    "\n",
    "Funções:\n",
    "- Função de importação de arquivo com as seguintes colunas:\n",
    "    Open High Low Close Volume + Indicadores\n",
    "  Esta mesma função fará os índices das linhas serem as datas\n",
    "- Função de escolha do intervalo de dias a terem o gráfico montado\n",
    "- Função que gera o gráfico de candlestick com volume e indicadores\n",
    "\n",
    "'''"
   ]
  },
  {
   "cell_type": "code",
   "execution_count": 2,
   "metadata": {},
   "outputs": [],
   "source": [
    "import numpy as np\n",
    "import pandas as pd\n",
    "import matplotlib.pyplot as plt\n",
    "import mplfinance as mpf\n",
    "\n",
    "%matplotlib inline"
   ]
  },
  {
   "cell_type": "code",
   "execution_count": 3,
   "metadata": {
    "tags": []
   },
   "outputs": [
    {
     "output_type": "execute_result",
     "data": {
      "text/plain": "              Open     Max     Min   Close     Volume  MME009  MMA021  MMA200  \\\nData                                                                            \n2020-08-07  121.44  124.30  119.86  121.67  306080781  121.99  120.06   76.08   \n2020-08-06  121.50  123.20  120.88  123.01  247717098  122.06  119.99   75.75   \n2020-08-05  124.85  125.50  121.25  121.50  273295133  121.83  119.63   75.41   \n2020-08-04  125.65  126.58  121.20  122.99  334340023  121.91  119.42   75.08   \n2020-08-03  121.17  126.00  119.45  126.00  510388452  121.64  119.19   74.73   \n\n            MMA051  MMA080  MMA400  MME400  \nData                                        \n2020-08-07  109.46   99.12   58.63   64.75  \n2020-08-06  108.92   98.34   58.43   64.46  \n2020-08-05  108.38   97.53   58.22   64.17  \n2020-08-04  107.71   96.73   58.01   63.88  \n2020-08-03  106.97   95.96   57.80   63.58  ",
      "text/html": "<div>\n<style scoped>\n    .dataframe tbody tr th:only-of-type {\n        vertical-align: middle;\n    }\n\n    .dataframe tbody tr th {\n        vertical-align: top;\n    }\n\n    .dataframe thead th {\n        text-align: right;\n    }\n</style>\n<table border=\"1\" class=\"dataframe\">\n  <thead>\n    <tr style=\"text-align: right;\">\n      <th></th>\n      <th>Open</th>\n      <th>Max</th>\n      <th>Min</th>\n      <th>Close</th>\n      <th>Volume</th>\n      <th>MME009</th>\n      <th>MMA021</th>\n      <th>MMA200</th>\n      <th>MMA051</th>\n      <th>MMA080</th>\n      <th>MMA400</th>\n      <th>MME400</th>\n    </tr>\n    <tr>\n      <th>Data</th>\n      <th></th>\n      <th></th>\n      <th></th>\n      <th></th>\n      <th></th>\n      <th></th>\n      <th></th>\n      <th></th>\n      <th></th>\n      <th></th>\n      <th></th>\n      <th></th>\n    </tr>\n  </thead>\n  <tbody>\n    <tr>\n      <th>2020-08-07</th>\n      <td>121.44</td>\n      <td>124.30</td>\n      <td>119.86</td>\n      <td>121.67</td>\n      <td>306080781</td>\n      <td>121.99</td>\n      <td>120.06</td>\n      <td>76.08</td>\n      <td>109.46</td>\n      <td>99.12</td>\n      <td>58.63</td>\n      <td>64.75</td>\n    </tr>\n    <tr>\n      <th>2020-08-06</th>\n      <td>121.50</td>\n      <td>123.20</td>\n      <td>120.88</td>\n      <td>123.01</td>\n      <td>247717098</td>\n      <td>122.06</td>\n      <td>119.99</td>\n      <td>75.75</td>\n      <td>108.92</td>\n      <td>98.34</td>\n      <td>58.43</td>\n      <td>64.46</td>\n    </tr>\n    <tr>\n      <th>2020-08-05</th>\n      <td>124.85</td>\n      <td>125.50</td>\n      <td>121.25</td>\n      <td>121.50</td>\n      <td>273295133</td>\n      <td>121.83</td>\n      <td>119.63</td>\n      <td>75.41</td>\n      <td>108.38</td>\n      <td>97.53</td>\n      <td>58.22</td>\n      <td>64.17</td>\n    </tr>\n    <tr>\n      <th>2020-08-04</th>\n      <td>125.65</td>\n      <td>126.58</td>\n      <td>121.20</td>\n      <td>122.99</td>\n      <td>334340023</td>\n      <td>121.91</td>\n      <td>119.42</td>\n      <td>75.08</td>\n      <td>107.71</td>\n      <td>96.73</td>\n      <td>58.01</td>\n      <td>63.88</td>\n    </tr>\n    <tr>\n      <th>2020-08-03</th>\n      <td>121.17</td>\n      <td>126.00</td>\n      <td>119.45</td>\n      <td>126.00</td>\n      <td>510388452</td>\n      <td>121.64</td>\n      <td>119.19</td>\n      <td>74.73</td>\n      <td>106.97</td>\n      <td>95.96</td>\n      <td>57.80</td>\n      <td>63.58</td>\n    </tr>\n  </tbody>\n</table>\n</div>"
     },
     "metadata": {},
     "execution_count": 3
    }
   ],
   "source": [
    "'''\n",
    "Importa os dados do ativo e renomeia as colunas\n",
    "'''\n",
    "\n",
    "file_name = 'BTOW3_1d.xlsx'\n",
    "path = '../collected_ data/' + file_name\n",
    "\n",
    "inplace = True\n",
    "df_input = pd.read_excel(path)\n",
    "df_input.dropna(inplace = inplace)\n",
    "df_input.set_index('Data', inplace = inplace)\n",
    "df_input.rename(inplace = inplace, columns = {\n",
    "    'Abertura': 'Open',\n",
    "    'Máxima': 'Max',\n",
    "    'Mínima': 'Min',\n",
    "    'Fechamento': 'Close',\n",
    "    'Volume Financeiro': 'Volume',\n",
    "    'Média Móvel E [9]': 'MME009',\n",
    "    'Média Móvel A [21]': 'MMA021',\n",
    "    'Média Móvel A [200]': 'MMA200',\n",
    "    'Média Móvel A [51]': 'MMA051',\n",
    "    'Média Móvel A [80]': 'MMA080',\n",
    "    'Média Móvel A [400]': 'MMA400',\n",
    "    'Média Móvel E [400]': 'MME400'\n",
    "})\n",
    "df_input.head()"
   ]
  },
  {
   "cell_type": "code",
   "execution_count": 4,
   "metadata": {
    "tags": []
   },
   "outputs": [
    {
     "output_type": "execute_result",
     "data": {
      "text/plain": "              Open     Max     Min   Close     Volume  MMA021  MMA051  MMA080  \\\nData                                                                            \n2020-08-07  121.44  124.30  119.86  121.67  306080781  120.06  109.46   99.12   \n2020-08-06  121.50  123.20  120.88  123.01  247717098  119.99  108.92   98.34   \n2020-08-05  124.85  125.50  121.25  121.50  273295133  119.63  108.38   97.53   \n2020-08-04  125.65  126.58  121.20  122.99  334340023  119.42  107.71   96.73   \n2020-08-03  121.17  126.00  119.45  126.00  510388452  119.19  106.97   95.96   \n\n            MMA200  MMA400  MME009  MME400  \nData                                        \n2020-08-07   76.08   58.63  121.99   64.75  \n2020-08-06   75.75   58.43  122.06   64.46  \n2020-08-05   75.41   58.22  121.83   64.17  \n2020-08-04   75.08   58.01  121.91   63.88  \n2020-08-03   74.73   57.80  121.64   63.58  ",
      "text/html": "<div>\n<style scoped>\n    .dataframe tbody tr th:only-of-type {\n        vertical-align: middle;\n    }\n\n    .dataframe tbody tr th {\n        vertical-align: top;\n    }\n\n    .dataframe thead th {\n        text-align: right;\n    }\n</style>\n<table border=\"1\" class=\"dataframe\">\n  <thead>\n    <tr style=\"text-align: right;\">\n      <th></th>\n      <th>Open</th>\n      <th>Max</th>\n      <th>Min</th>\n      <th>Close</th>\n      <th>Volume</th>\n      <th>MMA021</th>\n      <th>MMA051</th>\n      <th>MMA080</th>\n      <th>MMA200</th>\n      <th>MMA400</th>\n      <th>MME009</th>\n      <th>MME400</th>\n    </tr>\n    <tr>\n      <th>Data</th>\n      <th></th>\n      <th></th>\n      <th></th>\n      <th></th>\n      <th></th>\n      <th></th>\n      <th></th>\n      <th></th>\n      <th></th>\n      <th></th>\n      <th></th>\n      <th></th>\n    </tr>\n  </thead>\n  <tbody>\n    <tr>\n      <th>2020-08-07</th>\n      <td>121.44</td>\n      <td>124.30</td>\n      <td>119.86</td>\n      <td>121.67</td>\n      <td>306080781</td>\n      <td>120.06</td>\n      <td>109.46</td>\n      <td>99.12</td>\n      <td>76.08</td>\n      <td>58.63</td>\n      <td>121.99</td>\n      <td>64.75</td>\n    </tr>\n    <tr>\n      <th>2020-08-06</th>\n      <td>121.50</td>\n      <td>123.20</td>\n      <td>120.88</td>\n      <td>123.01</td>\n      <td>247717098</td>\n      <td>119.99</td>\n      <td>108.92</td>\n      <td>98.34</td>\n      <td>75.75</td>\n      <td>58.43</td>\n      <td>122.06</td>\n      <td>64.46</td>\n    </tr>\n    <tr>\n      <th>2020-08-05</th>\n      <td>124.85</td>\n      <td>125.50</td>\n      <td>121.25</td>\n      <td>121.50</td>\n      <td>273295133</td>\n      <td>119.63</td>\n      <td>108.38</td>\n      <td>97.53</td>\n      <td>75.41</td>\n      <td>58.22</td>\n      <td>121.83</td>\n      <td>64.17</td>\n    </tr>\n    <tr>\n      <th>2020-08-04</th>\n      <td>125.65</td>\n      <td>126.58</td>\n      <td>121.20</td>\n      <td>122.99</td>\n      <td>334340023</td>\n      <td>119.42</td>\n      <td>107.71</td>\n      <td>96.73</td>\n      <td>75.08</td>\n      <td>58.01</td>\n      <td>121.91</td>\n      <td>63.88</td>\n    </tr>\n    <tr>\n      <th>2020-08-03</th>\n      <td>121.17</td>\n      <td>126.00</td>\n      <td>119.45</td>\n      <td>126.00</td>\n      <td>510388452</td>\n      <td>119.19</td>\n      <td>106.97</td>\n      <td>95.96</td>\n      <td>74.73</td>\n      <td>57.80</td>\n      <td>121.64</td>\n      <td>63.58</td>\n    </tr>\n  </tbody>\n</table>\n</div>"
     },
     "metadata": {},
     "execution_count": 4
    }
   ],
   "source": [
    "'''\n",
    "Cria reordena as colunas dos indicadores em ordem alfabética\n",
    "'''\n",
    "\n",
    "df_candle = df_input[['Open', 'Max', 'Min', 'Close', 'Volume']]\n",
    "df_ind = df_input.reindex(sorted(df_input.columns[5:]), axis = 1)\n",
    "df = pd.concat([df_candle, df_ind], axis=1)\n",
    "df.head()"
   ]
  },
  {
   "cell_type": "code",
   "execution_count": 5,
   "metadata": {
    "tags": []
   },
   "outputs": [
    {
     "output_type": "stream",
     "name": "stdout",
     "text": "<class 'pandas.core.frame.DataFrame'>\nDatetimeIndex: 3400 entries, 2020-08-07 to 2006-11-03\nData columns (total 12 columns):\n #   Column  Non-Null Count  Dtype  \n---  ------  --------------  -----  \n 0   Open    3400 non-null   float64\n 1   Max     3400 non-null   float64\n 2   Min     3400 non-null   float64\n 3   Close   3400 non-null   float64\n 4   Volume  3400 non-null   int64  \n 5   MMA021  3400 non-null   float64\n 6   MMA051  3400 non-null   float64\n 7   MMA080  3400 non-null   float64\n 8   MMA200  3400 non-null   float64\n 9   MMA400  3400 non-null   float64\n 10  MME009  3400 non-null   float64\n 11  MME400  3400 non-null   float64\ndtypes: float64(11), int64(1)\nmemory usage: 345.3 KB\n"
    }
   ],
   "source": [
    "df.info()"
   ]
  },
  {
   "cell_type": "code",
   "execution_count": 6,
   "metadata": {
    "tags": []
   },
   "outputs": [
    {
     "output_type": "stream",
     "name": "stdout",
     "text": "Data Frame válido.\n"
    }
   ],
   "source": [
    "'''\n",
    "Verifica se o dataframe reordenado é igual ao original\n",
    "'''\n",
    "\n",
    "columns = list(df.columns)\n",
    "eq = True\n",
    "for col in columns:\n",
    "   eq = eq*df[col].equals(df_input[col])\n",
    "if eq:\n",
    "    print(\"Data Frame válido.\")\n",
    "else:\n",
    "    print(\"Data Frame inválido!!!!\")"
   ]
  },
  {
   "cell_type": "code",
   "execution_count": null,
   "metadata": {},
   "outputs": [],
   "source": [
    "'''\n",
    "Aprender a gerar os gráficos para então iterar os intervalos de data\n",
    "'''"
   ]
  }
 ],
 "metadata": {
  "kernelspec": {
   "display_name": "Python 3.7.7 64-bit ('Trade': conda)",
   "language": "python",
   "name": "python_defaultSpec_1597029547704"
  },
  "language_info": {
   "codemirror_mode": {
    "name": "ipython",
    "version": 3
   },
   "file_extension": ".py",
   "mimetype": "text/x-python",
   "name": "python",
   "nbconvert_exporter": "python",
   "pygments_lexer": "ipython3",
   "version": "3.7.7-final"
  }
 },
 "nbformat": 4,
 "nbformat_minor": 4
}