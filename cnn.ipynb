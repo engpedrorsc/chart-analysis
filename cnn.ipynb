{
 "metadata": {
  "language_info": {
   "codemirror_mode": {
    "name": "ipython",
    "version": 3
   },
   "file_extension": ".py",
   "mimetype": "text/x-python",
   "name": "python",
   "nbconvert_exporter": "python",
   "pygments_lexer": "ipython3",
   "version": "3.7.7-final"
  },
  "orig_nbformat": 2,
  "kernelspec": {
   "name": "python_defaultSpec_1598229762516",
   "display_name": "Python 3.7.7 64-bit ('Trade': conda)"
  }
 },
 "nbformat": 4,
 "nbformat_minor": 2,
 "cells": [
  {
   "cell_type": "code",
   "execution_count": null,
   "metadata": {},
   "outputs": [],
   "source": [
    "'''\n",
    "Notebook dedicado à implementação e teste da AlexNet\n",
    "https://www.youtube.com/watch?v=8GheVe2UmUM\n",
    "../references/ImageNet Classification with Deep ConvolutionalNeural Networks.pdf\n",
    "\n",
    "'''"
   ]
  },
  {
   "cell_type": "code",
   "execution_count": null,
   "metadata": {},
   "outputs": [],
   "source": [
    "'''\n",
    "Escrever função que organiza aleatoriamente os arquivos em pastas\n",
    "Pastas: train, valid e test\n",
    "\n",
    "Cada classe terá o mesmo número de exemplos. Avaliar possibilidade de copiar ao invés de mover.\n",
    "Dica: files_distribution = [[long, n_long]],\n",
    "                            [short, n_short],\n",
    "                            [wait, n_wait]]\n",
    "      for class in files_distribution:\n",
    "          for file in random.sample(glob.glob(class[0] + '.*'), class[1]):\n",
    "              shutil.move(file, '/charts/' + class[0])\n",
    "'''"
   ]
  },
  {
   "cell_type": "code",
   "execution_count": 1,
   "metadata": {},
   "outputs": [],
   "source": [
    "import os\n",
    "import tensorflow as tf\n",
    "import random\n",
    "import glob\n",
    "import shutil\n",
    "\n",
    "\n",
    "class AssetNotFoundError(OSError):\n",
    "    pass\n"
   ]
  },
  {
   "cell_type": "code",
   "execution_count": 11,
   "metadata": {
    "tags": []
   },
   "outputs": [],
   "source": [
    "'''\n",
    "Parâmetros\n",
    "'''\n",
    "\n",
    "steps = ['train', 'valid', 'test']\n",
    "asset = 'BTOW3'\n",
    "classes = ['long', 'short', 'wait']\n",
    "samples_sizes = [9, 3, 3]\n",
    "\n",
    "path = f'./generated_data/{asset}'\n"
   ]
  },
  {
   "cell_type": "code",
   "execution_count": 3,
   "metadata": {
    "tags": []
   },
   "outputs": [
    {
     "output_type": "stream",
     "name": "stdout",
     "text": "Num GPUs available:  1\n"
    }
   ],
   "source": [
    "'''\n",
    "Idendificação e configuração da GPU\n",
    "'''\n",
    "\n",
    "physical_devices = tf.config.experimental.list_physical_devices('GPU')\n",
    "print('Num GPUs available: ', len(physical_devices))\n",
    "tf.config.experimental.set_memory_growth(physical_devices[0], True)\n"
   ]
  },
  {
   "cell_type": "code",
   "execution_count": 12,
   "metadata": {
    "tags": []
   },
   "outputs": [],
   "source": [
    "'''\n",
    "Cria as pastas de treinamento, validação e teste com as classes indicadas caso ainda não existam\n",
    "'''\n",
    "\n",
    "if not os.path.isdir(path):\n",
    "    raise AssetNotFoundError('Asset folder not found.')\n",
    "\n",
    "for step in steps:\n",
    "    step_path = f'{path}/{step}'\n",
    "    if not os.path.isdir(f'{step_path}'):\n",
    "        os.mkdir(f'{step_path}')\n",
    "    for classification in classes:\n",
    "        classification_path = f'{path}/{step}/{classification}'\n",
    "        if not os.path.isdir(f'{classification_path}'):\n",
    "            os.mkdir(f'{classification_path}')\n"
   ]
  },
  {
   "cell_type": "code",
   "execution_count": 6,
   "metadata": {},
   "outputs": [],
   "source": [
    "'''\n",
    "Seleciona aleatoriamente os gráficos que serão usados nas etapas de treinamento, velidação e teste e os move para as pastas correspondentes\n",
    "As amostras são colhidas de forma equilibrada\n",
    "'''\n",
    "\n",
    "for i in range(0,len(steps)):\n",
    "    for classification in classes:\n",
    "        for chart in random.sample(glob.glob(f'{path}/*{classification}*'), samples_sizes[i]):\n",
    "            shutil.copy(chart, f'{path}/{steps[i]}/{classification}')\n"
   ]
  },
  {
   "cell_type": "code",
   "execution_count": null,
   "metadata": {},
   "outputs": [],
   "source": []
  }
 ]
}