{
 "cells": [
  {
   "cell_type": "code",
   "execution_count": 1,
   "metadata": {},
   "outputs": [],
   "source": [
    "from pathlib import Path\n",
    "import numpy as np\n",
    "import pandas as pd\n",
    "import matplotlib.pyplot as plt\n",
    "import mplfinance as mpf\n",
    "from datetime import datetime\n",
    "from datetime import timedelta\n",
    "from PIL import Image\n",
    "from glob import glob\n"
   ]
  },
  {
   "cell_type": "code",
   "execution_count": 2,
   "metadata": {},
   "outputs": [],
   "source": [
    "'''\n",
    "Parametrização\n",
    "'''\n",
    "\n",
    "asset = 'VALE3'\n",
    "time_frame = '1d'\n",
    "file_name = f'{asset}_{time_frame}.xlsx'\n",
    "data_path = Path(f'./collected_data/{file_name}')\n",
    "charts_path = Path(f'./generated_data/{asset}')\n"
   ]
  },
  {
   "cell_type": "code",
   "execution_count": 3,
   "metadata": {
    "tags": []
   },
   "outputs": [],
   "source": [
    "'''\n",
    "Importa os dados do ativo e renomeia as colunas\n",
    "'''\n",
    "\n",
    "inplace = True\n",
    "df_input = pd.read_excel(data_path)\n",
    "df_input.dropna(inplace = inplace)\n",
    "df_input.set_index('Data', inplace = inplace)\n",
    "df_input.sort_index(axis = 0, inplace = inplace)\n",
    "df_input.rename(inplace = inplace, columns = {\n",
    "    'Abertura': 'Open',\n",
    "    'Máxima': 'High',\n",
    "    'Mínima': 'Low',\n",
    "    'Fechamento': 'Close',\n",
    "    'Volume Financeiro': 'Volume',\n",
    "    'Média Móvel E [9]': 'MME009',\n",
    "    'Média Móvel A [21]': 'MMA021',\n",
    "    'Média Móvel A [200]': 'MMA200',\n",
    "    'Média Móvel A [51]': 'MMA051',\n",
    "    'Média Móvel A [80]': 'MMA080',\n",
    "    'Média Móvel A [400]': 'MMA400',\n",
    "    'Média Móvel E [400]': 'MME400'})\n"
   ]
  },
  {
   "cell_type": "code",
   "execution_count": 4,
   "metadata": {},
   "outputs": [
    {
     "output_type": "execute_result",
     "data": {
      "text/plain": "            Open  High   Low  Close    Volume  MME009  MMA021  MMA200  MMA051  \\\nData                                                                            \n1996-05-02  1.23  1.24  1.23   1.23  540980.0    1.24    1.27    1.37    1.35   \n1996-05-03  1.24  1.24  1.23   1.23   93125.0    1.24    1.27    1.36    1.35   \n1996-05-06  1.23  1.23  1.23   1.23   53050.0    1.24    1.26    1.36    1.35   \n1996-05-08  1.23  1.23  1.23   1.23  310250.0    1.23    1.25    1.36    1.34   \n1996-05-14  1.23  1.23  1.22   1.22  168990.0    1.23    1.25    1.36    1.34   \n\n            MMA080  MMA400  MME400  Média Móvel W [400]  \nData                                                     \n1996-05-02    1.34    1.27    1.27                 1.27  \n1996-05-03    1.34    1.27    1.27                 1.27  \n1996-05-06    1.34    1.28    1.27                 1.27  \n1996-05-08    1.34    1.28    1.27                 1.27  \n1996-05-14    1.34    1.28    1.27                 1.27  ",
      "text/html": "<div>\n<style scoped>\n    .dataframe tbody tr th:only-of-type {\n        vertical-align: middle;\n    }\n\n    .dataframe tbody tr th {\n        vertical-align: top;\n    }\n\n    .dataframe thead th {\n        text-align: right;\n    }\n</style>\n<table border=\"1\" class=\"dataframe\">\n  <thead>\n    <tr style=\"text-align: right;\">\n      <th></th>\n      <th>Open</th>\n      <th>High</th>\n      <th>Low</th>\n      <th>Close</th>\n      <th>Volume</th>\n      <th>MME009</th>\n      <th>MMA021</th>\n      <th>MMA200</th>\n      <th>MMA051</th>\n      <th>MMA080</th>\n      <th>MMA400</th>\n      <th>MME400</th>\n      <th>Média Móvel W [400]</th>\n    </tr>\n    <tr>\n      <th>Data</th>\n      <th></th>\n      <th></th>\n      <th></th>\n      <th></th>\n      <th></th>\n      <th></th>\n      <th></th>\n      <th></th>\n      <th></th>\n      <th></th>\n      <th></th>\n      <th></th>\n      <th></th>\n    </tr>\n  </thead>\n  <tbody>\n    <tr>\n      <th>1996-05-02</th>\n      <td>1.23</td>\n      <td>1.24</td>\n      <td>1.23</td>\n      <td>1.23</td>\n      <td>540980.0</td>\n      <td>1.24</td>\n      <td>1.27</td>\n      <td>1.37</td>\n      <td>1.35</td>\n      <td>1.34</td>\n      <td>1.27</td>\n      <td>1.27</td>\n      <td>1.27</td>\n    </tr>\n    <tr>\n      <th>1996-05-03</th>\n      <td>1.24</td>\n      <td>1.24</td>\n      <td>1.23</td>\n      <td>1.23</td>\n      <td>93125.0</td>\n      <td>1.24</td>\n      <td>1.27</td>\n      <td>1.36</td>\n      <td>1.35</td>\n      <td>1.34</td>\n      <td>1.27</td>\n      <td>1.27</td>\n      <td>1.27</td>\n    </tr>\n    <tr>\n      <th>1996-05-06</th>\n      <td>1.23</td>\n      <td>1.23</td>\n      <td>1.23</td>\n      <td>1.23</td>\n      <td>53050.0</td>\n      <td>1.24</td>\n      <td>1.26</td>\n      <td>1.36</td>\n      <td>1.35</td>\n      <td>1.34</td>\n      <td>1.28</td>\n      <td>1.27</td>\n      <td>1.27</td>\n    </tr>\n    <tr>\n      <th>1996-05-08</th>\n      <td>1.23</td>\n      <td>1.23</td>\n      <td>1.23</td>\n      <td>1.23</td>\n      <td>310250.0</td>\n      <td>1.23</td>\n      <td>1.25</td>\n      <td>1.36</td>\n      <td>1.34</td>\n      <td>1.34</td>\n      <td>1.28</td>\n      <td>1.27</td>\n      <td>1.27</td>\n    </tr>\n    <tr>\n      <th>1996-05-14</th>\n      <td>1.23</td>\n      <td>1.23</td>\n      <td>1.22</td>\n      <td>1.22</td>\n      <td>168990.0</td>\n      <td>1.23</td>\n      <td>1.25</td>\n      <td>1.36</td>\n      <td>1.34</td>\n      <td>1.34</td>\n      <td>1.28</td>\n      <td>1.27</td>\n      <td>1.27</td>\n    </tr>\n  </tbody>\n</table>\n</div>"
     },
     "metadata": {},
     "execution_count": 4
    }
   ],
   "source": [
    "df_input.head()"
   ]
  },
  {
   "cell_type": "code",
   "execution_count": 5,
   "metadata": {},
   "outputs": [
    {
     "output_type": "execute_result",
     "data": {
      "text/plain": "             Open   High    Low  Close        Volume  MME009  MMA021  MMA200  \\\nData                                                                           \n2020-08-20  61.82  63.50  61.67  62.95  1.611985e+09   62.02   61.23   51.31   \n2020-08-21  62.41  62.79  61.51  62.20  1.688418e+09   62.05   61.39   51.37   \n2020-08-24  62.94  63.13  62.24  62.96  1.116583e+09   62.24   61.60   51.45   \n2020-08-25  62.80  62.84  61.05  61.62  1.439559e+09   62.11   61.61   51.52   \n2020-08-26  61.66  62.35  61.24  61.75  1.470004e+09   62.04   61.68   51.58   \n\n            MMA051  MMA080  MMA400  MME400  Média Móvel W [400]  \nData                                                             \n2020-08-20   58.63   55.50   50.03   50.34                45.98  \n2020-08-21   58.79   55.69   50.06   50.40                46.02  \n2020-08-24   58.98   55.92   50.09   50.46                46.06  \n2020-08-25   59.13   56.14   50.11   50.52                46.10  \n2020-08-26   59.26   56.36   50.13   50.57                46.14  ",
      "text/html": "<div>\n<style scoped>\n    .dataframe tbody tr th:only-of-type {\n        vertical-align: middle;\n    }\n\n    .dataframe tbody tr th {\n        vertical-align: top;\n    }\n\n    .dataframe thead th {\n        text-align: right;\n    }\n</style>\n<table border=\"1\" class=\"dataframe\">\n  <thead>\n    <tr style=\"text-align: right;\">\n      <th></th>\n      <th>Open</th>\n      <th>High</th>\n      <th>Low</th>\n      <th>Close</th>\n      <th>Volume</th>\n      <th>MME009</th>\n      <th>MMA021</th>\n      <th>MMA200</th>\n      <th>MMA051</th>\n      <th>MMA080</th>\n      <th>MMA400</th>\n      <th>MME400</th>\n      <th>Média Móvel W [400]</th>\n    </tr>\n    <tr>\n      <th>Data</th>\n      <th></th>\n      <th></th>\n      <th></th>\n      <th></th>\n      <th></th>\n      <th></th>\n      <th></th>\n      <th></th>\n      <th></th>\n      <th></th>\n      <th></th>\n      <th></th>\n      <th></th>\n    </tr>\n  </thead>\n  <tbody>\n    <tr>\n      <th>2020-08-20</th>\n      <td>61.82</td>\n      <td>63.50</td>\n      <td>61.67</td>\n      <td>62.95</td>\n      <td>1.611985e+09</td>\n      <td>62.02</td>\n      <td>61.23</td>\n      <td>51.31</td>\n      <td>58.63</td>\n      <td>55.50</td>\n      <td>50.03</td>\n      <td>50.34</td>\n      <td>45.98</td>\n    </tr>\n    <tr>\n      <th>2020-08-21</th>\n      <td>62.41</td>\n      <td>62.79</td>\n      <td>61.51</td>\n      <td>62.20</td>\n      <td>1.688418e+09</td>\n      <td>62.05</td>\n      <td>61.39</td>\n      <td>51.37</td>\n      <td>58.79</td>\n      <td>55.69</td>\n      <td>50.06</td>\n      <td>50.40</td>\n      <td>46.02</td>\n    </tr>\n    <tr>\n      <th>2020-08-24</th>\n      <td>62.94</td>\n      <td>63.13</td>\n      <td>62.24</td>\n      <td>62.96</td>\n      <td>1.116583e+09</td>\n      <td>62.24</td>\n      <td>61.60</td>\n      <td>51.45</td>\n      <td>58.98</td>\n      <td>55.92</td>\n      <td>50.09</td>\n      <td>50.46</td>\n      <td>46.06</td>\n    </tr>\n    <tr>\n      <th>2020-08-25</th>\n      <td>62.80</td>\n      <td>62.84</td>\n      <td>61.05</td>\n      <td>61.62</td>\n      <td>1.439559e+09</td>\n      <td>62.11</td>\n      <td>61.61</td>\n      <td>51.52</td>\n      <td>59.13</td>\n      <td>56.14</td>\n      <td>50.11</td>\n      <td>50.52</td>\n      <td>46.10</td>\n    </tr>\n    <tr>\n      <th>2020-08-26</th>\n      <td>61.66</td>\n      <td>62.35</td>\n      <td>61.24</td>\n      <td>61.75</td>\n      <td>1.470004e+09</td>\n      <td>62.04</td>\n      <td>61.68</td>\n      <td>51.58</td>\n      <td>59.26</td>\n      <td>56.36</td>\n      <td>50.13</td>\n      <td>50.57</td>\n      <td>46.14</td>\n    </tr>\n  </tbody>\n</table>\n</div>"
     },
     "metadata": {},
     "execution_count": 5
    }
   ],
   "source": [
    "df_input.tail()"
   ]
  },
  {
   "cell_type": "code",
   "execution_count": 6,
   "metadata": {
    "tags": []
   },
   "outputs": [],
   "source": [
    "'''\n",
    "Cria reordena as colunas dos indicadores em ordem alfabética\n",
    "'''\n",
    "\n",
    "df_candle = df_input[['Open', 'High', 'Low', 'Close', 'Volume']]\n",
    "df_ind = df_input.reindex(sorted(df_input.columns[5:]), axis = 1)\n",
    "df = pd.concat([df_candle, df_ind], axis=1)\n",
    "\n",
    "# df.head()\n"
   ]
  },
  {
   "cell_type": "code",
   "execution_count": 7,
   "metadata": {
    "tags": []
   },
   "outputs": [
    {
     "output_type": "stream",
     "name": "stdout",
     "text": "Data Frame válido.\n"
    }
   ],
   "source": [
    "'''\n",
    "Verifica se o dataframe reordenado é igual ao original\n",
    "'''\n",
    "\n",
    "columns = list(df.columns)\n",
    "eq = True\n",
    "for col in columns:\n",
    "   eq = eq*df[col].equals(df_input[col])\n",
    "if eq:\n",
    "    print(\"Data Frame válido.\")\n",
    "else:\n",
    "    print(\"Data Frame inválido!!!!\")\n",
    "    "
   ]
  },
  {
   "cell_type": "code",
   "execution_count": 8,
   "metadata": {
    "tags": []
   },
   "outputs": [],
   "source": [
    "'''\n",
    "Aprender a gerar os gráficos para então iterar os intervalos de data\n",
    "\n",
    "IMPLEMENTAR MULTIPROCESSAMENTO PARA GILIZAR A CRIAÇÃO DAS IMAGENS\n",
    ">>> import multiprocessing\n",
    "'''\n",
    "\n",
    "def date_delta(start_date, delta): # Função sem uso por enquanto\n",
    "    end_date = datetime.strptime(start_date, '%Y-%m-%d') + timedelta(days = delta)\n",
    "    return end_date.strftime('%Y-%m-%d')\n",
    "\n",
    "\n",
    "def gen_chart(df, date, trade_delta, min_profit, chart_delta, add, save_name):\n",
    "    end_index = df.index.get_loc(date)\n",
    "    start_index = end_index - chart_delta\n",
    "    savefig = './generated_data/plot.png'\n",
    "    \n",
    "    start_trade = df['Open'][end_index + 1]\n",
    "    end_trade = df['Close'][end_index + trade_delta]\n",
    "    if end_trade/start_trade >= 1 + min_profit/100:\n",
    "        trade_class = 'long'\n",
    "    elif end_trade/start_trade <= 1 - min_profit/100:\n",
    "        trade_class = 'short'\n",
    "    else:\n",
    "        trade_class = 'wait'\n",
    "\n",
    "    df_plot = df.iloc[start_index:end_index,:]\n",
    "    erase_color = 'black'\n",
    "\n",
    "    mc = mpf.make_marketcolors(up = 'g',down = 'r',\n",
    "                               wick = 'inherit',\n",
    "                               edge = 'inherit',\n",
    "                               volume = 'grey')\n",
    "    s = mpf.make_mpf_style(marketcolors = mc,\n",
    "                           facecolor = erase_color,\n",
    "                           edgecolor = erase_color,\n",
    "                           figcolor = erase_color)\n",
    "    addplot = mpf.make_addplot(df_plot[add])\n",
    "    plot = mpf.plot(df_plot, type = 'candle',\n",
    "                             volume = True,\n",
    "                             style = s,\n",
    "                             addplot = addplot,\n",
    "                             savefig = savefig)\n",
    "\n",
    "    uncropped_plot = Image.open(savefig)\n",
    "    box = (uncropped_plot.size[0]*0.202,\n",
    "           uncropped_plot.size[1]*0.11,\n",
    "           uncropped_plot.size[0]*0.88,\n",
    "           uncropped_plot.size[1]*0.85)\n",
    "\n",
    "    cropped_plot = uncropped_plot.crop(box).save(f'{save_name}_{trade_class}.png')\n",
    "\n",
    "    return (start_trade, end_trade, trade_class)\n",
    "    "
   ]
  },
  {
   "cell_type": "code",
   "execution_count": 9,
   "metadata": {
    "tags": []
   },
   "outputs": [
    {
     "output_type": "stream",
     "name": "stdout",
     "text": "1507 imagens geradas.\n"
    }
   ],
   "source": [
    "'''\n",
    "Chamamento das funções de geração dos gráficos\n",
    "Implementar o loop for\n",
    "'''\n",
    "\n",
    "charts_path.mkdir(parents=True, exist_ok=True)\n",
    "date_range = pd.date_range(start='2014-06-28', end='2020-07-30')\n",
    "trade_delta = 2\n",
    "min_profit = 1 # in %\n",
    "chart_delta = 60\n",
    "ind_columns = list(df.columns)[5:10]\n",
    "\n",
    "count = 0\n",
    "for date in date_range:\n",
    "    try:\n",
    "        file_date = date.strftime('%Y-%m-%d')\n",
    "        save_name = charts_path/f'{asset}_{file_date}'\n",
    "        gen_chart(df, date, trade_delta, min_profit, chart_delta, ind_columns, save_name)\n",
    "        count += 1\n",
    "    except KeyError or IndexError:\n",
    "        continue\n",
    "print(f'{count} imagens geradas.')"
   ]
  },
  {
   "cell_type": "code",
   "execution_count": null,
   "metadata": {},
   "outputs": [],
   "source": []
  }
 ],
 "metadata": {
  "kernelspec": {
   "display_name": "Python 3.7.7 64-bit ('Trade': conda)",
   "language": "python",
   "name": "python_defaultSpec_1598476134495"
  },
  "language_info": {
   "codemirror_mode": {
    "name": "ipython",
    "version": 3
   },
   "file_extension": ".py",
   "mimetype": "text/x-python",
   "name": "python",
   "nbconvert_exporter": "python",
   "pygments_lexer": "ipython3",
   "version": "3.7.7-final"
  }
 },
 "nbformat": 4,
 "nbformat_minor": 4
}