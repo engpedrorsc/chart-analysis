{
 "cells": [
  {
   "cell_type": "code",
   "execution_count": 2,
   "metadata": {},
   "outputs": [],
   "source": [
    "import numpy as np\n",
    "import pandas as pd\n",
    "import matplotlib.pyplot as plt\n",
    "import mplfinance as mpf\n",
    "\n",
    "%matplotlib inline"
   ]
  },
  {
   "cell_type": "code",
   "execution_count": 3,
   "metadata": {},
   "outputs": [
    {
     "name": "stdout",
     "output_type": "stream",
     "text": [
      "../collected_ data/BTOW3_1d.xlsx\n"
     ]
    },
    {
     "data": {
      "text/html": [
       "<div>\n",
       "<style scoped>\n",
       "    .dataframe tbody tr th:only-of-type {\n",
       "        vertical-align: middle;\n",
       "    }\n",
       "\n",
       "    .dataframe tbody tr th {\n",
       "        vertical-align: top;\n",
       "    }\n",
       "\n",
       "    .dataframe thead th {\n",
       "        text-align: right;\n",
       "    }\n",
       "</style>\n",
       "<table border=\"1\" class=\"dataframe\">\n",
       "  <thead>\n",
       "    <tr style=\"text-align: right;\">\n",
       "      <th></th>\n",
       "      <th>Data</th>\n",
       "      <th>Abertura</th>\n",
       "      <th>Máxima</th>\n",
       "      <th>Mínima</th>\n",
       "      <th>Fechamento</th>\n",
       "    </tr>\n",
       "  </thead>\n",
       "  <tbody>\n",
       "    <tr>\n",
       "      <th>3791</th>\n",
       "      <td>2020-07-29</td>\n",
       "      <td>121.84</td>\n",
       "      <td>124.50</td>\n",
       "      <td>120.54</td>\n",
       "      <td>123.41</td>\n",
       "    </tr>\n",
       "    <tr>\n",
       "      <th>3792</th>\n",
       "      <td>2020-07-30</td>\n",
       "      <td>120.99</td>\n",
       "      <td>124.62</td>\n",
       "      <td>120.00</td>\n",
       "      <td>122.00</td>\n",
       "    </tr>\n",
       "    <tr>\n",
       "      <th>3793</th>\n",
       "      <td>2020-07-31</td>\n",
       "      <td>123.10</td>\n",
       "      <td>126.85</td>\n",
       "      <td>119.32</td>\n",
       "      <td>119.32</td>\n",
       "    </tr>\n",
       "    <tr>\n",
       "      <th>3794</th>\n",
       "      <td>2020-08-03</td>\n",
       "      <td>121.17</td>\n",
       "      <td>126.00</td>\n",
       "      <td>119.45</td>\n",
       "      <td>126.00</td>\n",
       "    </tr>\n",
       "    <tr>\n",
       "      <th>3795</th>\n",
       "      <td>2020-08-04</td>\n",
       "      <td>125.65</td>\n",
       "      <td>126.58</td>\n",
       "      <td>121.20</td>\n",
       "      <td>122.99</td>\n",
       "    </tr>\n",
       "  </tbody>\n",
       "</table>\n",
       "</div>"
      ],
      "text/plain": [
       "           Data  Abertura  Máxima  Mínima  Fechamento\n",
       "3791 2020-07-29    121.84  124.50  120.54      123.41\n",
       "3792 2020-07-30    120.99  124.62  120.00      122.00\n",
       "3793 2020-07-31    123.10  126.85  119.32      119.32\n",
       "3794 2020-08-03    121.17  126.00  119.45      126.00\n",
       "3795 2020-08-04    125.65  126.58  121.20      122.99"
      ]
     },
     "execution_count": 3,
     "metadata": {},
     "output_type": "execute_result"
    }
   ],
   "source": [
    "# Abre e exibe uma amostra do arquivo com os dados do ativo\n",
    "\n",
    "file_name = 'BTOW3_1d.xlsx'\n",
    "path = '../collected_ data/' + file_name\n",
    "print(path)\n",
    "df = pd.read_excel(path)\n",
    "df.tail()"
   ]
  },
  {
   "cell_type": "code",
   "execution_count": 8,
   "metadata": {},
   "outputs": [
    {
     "data": {
      "text/html": [
       "<div>\n",
       "<style scoped>\n",
       "    .dataframe tbody tr th:only-of-type {\n",
       "        vertical-align: middle;\n",
       "    }\n",
       "\n",
       "    .dataframe tbody tr th {\n",
       "        vertical-align: top;\n",
       "    }\n",
       "\n",
       "    .dataframe thead th {\n",
       "        text-align: right;\n",
       "    }\n",
       "</style>\n",
       "<table border=\"1\" class=\"dataframe\">\n",
       "  <thead>\n",
       "    <tr style=\"text-align: right;\">\n",
       "      <th></th>\n",
       "      <th>Data</th>\n",
       "      <th>Abertura</th>\n",
       "      <th>Máxima</th>\n",
       "      <th>Mínima</th>\n",
       "      <th>Fechamento</th>\n",
       "      <th>Dia da semana</th>\n",
       "    </tr>\n",
       "  </thead>\n",
       "  <tbody>\n",
       "    <tr>\n",
       "      <th>3791</th>\n",
       "      <td>2020-07-29</td>\n",
       "      <td>121.84</td>\n",
       "      <td>124.50</td>\n",
       "      <td>120.54</td>\n",
       "      <td>123.41</td>\n",
       "      <td>4</td>\n",
       "    </tr>\n",
       "    <tr>\n",
       "      <th>3792</th>\n",
       "      <td>2020-07-30</td>\n",
       "      <td>120.99</td>\n",
       "      <td>124.62</td>\n",
       "      <td>120.00</td>\n",
       "      <td>122.00</td>\n",
       "      <td>5</td>\n",
       "    </tr>\n",
       "    <tr>\n",
       "      <th>3793</th>\n",
       "      <td>2020-07-31</td>\n",
       "      <td>123.10</td>\n",
       "      <td>126.85</td>\n",
       "      <td>119.32</td>\n",
       "      <td>119.32</td>\n",
       "      <td>6</td>\n",
       "    </tr>\n",
       "    <tr>\n",
       "      <th>3794</th>\n",
       "      <td>2020-08-03</td>\n",
       "      <td>121.17</td>\n",
       "      <td>126.00</td>\n",
       "      <td>119.45</td>\n",
       "      <td>126.00</td>\n",
       "      <td>2</td>\n",
       "    </tr>\n",
       "    <tr>\n",
       "      <th>3795</th>\n",
       "      <td>2020-08-04</td>\n",
       "      <td>125.65</td>\n",
       "      <td>126.58</td>\n",
       "      <td>121.20</td>\n",
       "      <td>122.99</td>\n",
       "      <td>3</td>\n",
       "    </tr>\n",
       "  </tbody>\n",
       "</table>\n",
       "</div>"
      ],
      "text/plain": [
       "           Data  Abertura  Máxima  Mínima  Fechamento  Dia da semana\n",
       "3791 2020-07-29    121.84  124.50  120.54      123.41              4\n",
       "3792 2020-07-30    120.99  124.62  120.00      122.00              5\n",
       "3793 2020-07-31    123.10  126.85  119.32      119.32              6\n",
       "3794 2020-08-03    121.17  126.00  119.45      126.00              2\n",
       "3795 2020-08-04    125.65  126.58  121.20      122.99              3"
      ]
     },
     "execution_count": 8,
     "metadata": {},
     "output_type": "execute_result"
    }
   ],
   "source": [
    "# Cria a coluna com o dia da semana, sendo domingo = 1, segunda-feira = 2 e assim por diante\n",
    "\n",
    "df['Dia da semana'] = df['Data'].dt.dayofweek + 2\n",
    "df.tail()"
   ]
  },
  {
   "cell_type": "code",
   "execution_count": 9,
   "metadata": {},
   "outputs": [
    {
     "name": "stdout",
     "output_type": "stream",
     "text": [
      "<class 'pandas.core.frame.DataFrame'>\n",
      "RangeIndex: 3796 entries, 0 to 3795\n",
      "Data columns (total 6 columns):\n",
      " #   Column         Non-Null Count  Dtype         \n",
      "---  ------         --------------  -----         \n",
      " 0   Data           3796 non-null   datetime64[ns]\n",
      " 1   Abertura       3796 non-null   float64       \n",
      " 2   Máxima         3796 non-null   float64       \n",
      " 3   Mínima         3796 non-null   float64       \n",
      " 4   Fechamento     3796 non-null   float64       \n",
      " 5   Dia da semana  3796 non-null   int64         \n",
      "dtypes: datetime64[ns](1), float64(4), int64(1)\n",
      "memory usage: 178.1 KB\n"
     ]
    }
   ],
   "source": [
    "df.info()"
   ]
  },
  {
   "cell_type": "code",
   "execution_count": null,
   "metadata": {},
   "outputs": [],
   "source": []
  }
 ],
 "metadata": {
  "kernelspec": {
   "display_name": "Python 3",
   "language": "python",
   "name": "python3"
  },
  "language_info": {
   "codemirror_mode": {
    "name": "ipython",
    "version": 3
   },
   "file_extension": ".py",
   "mimetype": "text/x-python",
   "name": "python",
   "nbconvert_exporter": "python",
   "pygments_lexer": "ipython3",
   "version": "3.7.7"
  }
 },
 "nbformat": 4,
 "nbformat_minor": 4
}
