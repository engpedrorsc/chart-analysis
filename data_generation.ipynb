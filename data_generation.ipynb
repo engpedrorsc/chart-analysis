{
 "cells": [
  {
   "cell_type": "code",
   "execution_count": 1,
   "metadata": {},
   "outputs": [],
   "source": [
    "from pathlib import Path\n",
    "import numpy as np\n",
    "import pandas as pd\n",
    "import matplotlib.pyplot as plt\n",
    "import mplfinance as mpf\n",
    "from datetime import datetime\n",
    "from datetime import timedelta\n",
    "from PIL import Image\n",
    "from glob import glob\n"
   ]
  },
  {
   "cell_type": "code",
   "execution_count": 2,
   "metadata": {},
   "outputs": [],
   "source": [
    "'''\n",
    "Parametrização\n",
    "'''\n",
    "\n",
    "asset = 'BTOW3'\n",
    "time_frame = '1d'\n",
    "file_name = f'{asset}_{time_frame}.xlsx'\n",
    "data_path = Path(f'./collected_data/{file_name}')\n",
    "charts_path = Path(f'./generated_data/{asset}')\n"
   ]
  },
  {
   "cell_type": "code",
   "execution_count": 3,
   "metadata": {
    "tags": []
   },
   "outputs": [
    {
     "output_type": "execute_result",
     "data": {
      "text/plain": "             Open   High    Low  Close    Volume  MME009  MMA021  MMA200  \\\nData                                                                       \n2006-11-03  45.11  45.90  44.04  45.15  19193744   43.41   41.81   46.50   \n2006-11-06  45.20  46.72  44.20  46.50  32347216   44.03   41.99   46.49   \n2006-11-07  46.50  47.51  45.46  47.50  43484428   44.72   42.34   46.49   \n2006-11-08  47.39  47.90  46.14  47.75  52434539   45.33   42.76   46.50   \n2006-11-09  47.82  48.15  45.80  46.05  18398881   45.47   43.04   46.50   \n\n            MMA051  MMA080  MMA400  MME400  \nData                                        \n2006-11-03   43.11   42.18   36.51   36.51  \n2006-11-06   43.19   42.23   36.57   36.56  \n2006-11-07   43.30   42.31   36.64   36.62  \n2006-11-08   43.40   42.41   36.71   36.67  \n2006-11-09   43.45   42.51   36.77   36.72  ",
      "text/html": "<div>\n<style scoped>\n    .dataframe tbody tr th:only-of-type {\n        vertical-align: middle;\n    }\n\n    .dataframe tbody tr th {\n        vertical-align: top;\n    }\n\n    .dataframe thead th {\n        text-align: right;\n    }\n</style>\n<table border=\"1\" class=\"dataframe\">\n  <thead>\n    <tr style=\"text-align: right;\">\n      <th></th>\n      <th>Open</th>\n      <th>High</th>\n      <th>Low</th>\n      <th>Close</th>\n      <th>Volume</th>\n      <th>MME009</th>\n      <th>MMA021</th>\n      <th>MMA200</th>\n      <th>MMA051</th>\n      <th>MMA080</th>\n      <th>MMA400</th>\n      <th>MME400</th>\n    </tr>\n    <tr>\n      <th>Data</th>\n      <th></th>\n      <th></th>\n      <th></th>\n      <th></th>\n      <th></th>\n      <th></th>\n      <th></th>\n      <th></th>\n      <th></th>\n      <th></th>\n      <th></th>\n      <th></th>\n    </tr>\n  </thead>\n  <tbody>\n    <tr>\n      <th>2006-11-03</th>\n      <td>45.11</td>\n      <td>45.90</td>\n      <td>44.04</td>\n      <td>45.15</td>\n      <td>19193744</td>\n      <td>43.41</td>\n      <td>41.81</td>\n      <td>46.50</td>\n      <td>43.11</td>\n      <td>42.18</td>\n      <td>36.51</td>\n      <td>36.51</td>\n    </tr>\n    <tr>\n      <th>2006-11-06</th>\n      <td>45.20</td>\n      <td>46.72</td>\n      <td>44.20</td>\n      <td>46.50</td>\n      <td>32347216</td>\n      <td>44.03</td>\n      <td>41.99</td>\n      <td>46.49</td>\n      <td>43.19</td>\n      <td>42.23</td>\n      <td>36.57</td>\n      <td>36.56</td>\n    </tr>\n    <tr>\n      <th>2006-11-07</th>\n      <td>46.50</td>\n      <td>47.51</td>\n      <td>45.46</td>\n      <td>47.50</td>\n      <td>43484428</td>\n      <td>44.72</td>\n      <td>42.34</td>\n      <td>46.49</td>\n      <td>43.30</td>\n      <td>42.31</td>\n      <td>36.64</td>\n      <td>36.62</td>\n    </tr>\n    <tr>\n      <th>2006-11-08</th>\n      <td>47.39</td>\n      <td>47.90</td>\n      <td>46.14</td>\n      <td>47.75</td>\n      <td>52434539</td>\n      <td>45.33</td>\n      <td>42.76</td>\n      <td>46.50</td>\n      <td>43.40</td>\n      <td>42.41</td>\n      <td>36.71</td>\n      <td>36.67</td>\n    </tr>\n    <tr>\n      <th>2006-11-09</th>\n      <td>47.82</td>\n      <td>48.15</td>\n      <td>45.80</td>\n      <td>46.05</td>\n      <td>18398881</td>\n      <td>45.47</td>\n      <td>43.04</td>\n      <td>46.50</td>\n      <td>43.45</td>\n      <td>42.51</td>\n      <td>36.77</td>\n      <td>36.72</td>\n    </tr>\n  </tbody>\n</table>\n</div>"
     },
     "metadata": {},
     "execution_count": 3
    }
   ],
   "source": [
    "'''\n",
    "Importa os dados do ativo e renomeia as colunas\n",
    "'''\n",
    "\n",
    "inplace = True\n",
    "df_input = pd.read_excel(data_path)\n",
    "df_input.dropna(inplace = inplace)\n",
    "df_input.set_index('Data', inplace = inplace)\n",
    "df_input.sort_index(axis = 0, inplace = inplace)\n",
    "df_input.rename(inplace = inplace, columns = {\n",
    "    'Abertura': 'Open',\n",
    "    'Máxima': 'High',\n",
    "    'Mínima': 'Low',\n",
    "    'Fechamento': 'Close',\n",
    "    'Volume Financeiro': 'Volume',\n",
    "    'Média Móvel E [9]': 'MME009',\n",
    "    'Média Móvel A [21]': 'MMA021',\n",
    "    'Média Móvel A [200]': 'MMA200',\n",
    "    'Média Móvel A [51]': 'MMA051',\n",
    "    'Média Móvel A [80]': 'MMA080',\n",
    "    'Média Móvel A [400]': 'MMA400',\n",
    "    'Média Móvel E [400]': 'MME400'})\n",
    "\n",
    "df_input.head()\n"
   ]
  },
  {
   "cell_type": "code",
   "execution_count": 4,
   "metadata": {
    "tags": []
   },
   "outputs": [],
   "source": [
    "'''\n",
    "Cria reordena as colunas dos indicadores em ordem alfabética\n",
    "'''\n",
    "\n",
    "df_candle = df_input[['Open', 'High', 'Low', 'Close', 'Volume']]\n",
    "df_ind = df_input.reindex(sorted(df_input.columns[5:]), axis = 1)\n",
    "df = pd.concat([df_candle, df_ind], axis=1)\n",
    "\n",
    "# df.head()\n"
   ]
  },
  {
   "cell_type": "code",
   "execution_count": 5,
   "metadata": {
    "tags": []
   },
   "outputs": [
    {
     "output_type": "stream",
     "name": "stdout",
     "text": "Data Frame válido.\n"
    }
   ],
   "source": [
    "'''\n",
    "Verifica se o dataframe reordenado é igual ao original\n",
    "'''\n",
    "\n",
    "columns = list(df.columns)\n",
    "eq = True\n",
    "for col in columns:\n",
    "   eq = eq*df[col].equals(df_input[col])\n",
    "if eq:\n",
    "    print(\"Data Frame válido.\")\n",
    "else:\n",
    "    print(\"Data Frame inválido!!!!\")\n",
    "    "
   ]
  },
  {
   "cell_type": "code",
   "execution_count": 6,
   "metadata": {
    "tags": []
   },
   "outputs": [],
   "source": [
    "'''\n",
    "Aprender a gerar os gráficos para então iterar os intervalos de data\n",
    "'''\n",
    "\n",
    "def date_delta(start_date, delta): # Função sem uso por enquanto\n",
    "    end_date = datetime.strptime(start_date, '%Y-%m-%d') + timedelta(days = delta)\n",
    "    return end_date.strftime('%Y-%m-%d')\n",
    "\n",
    "\n",
    "def gen_chart(df, date, trade_delta, min_profit, chart_delta, add, save_name):\n",
    "    end_index = df.index.get_loc(date)\n",
    "    start_index = end_index - chart_delta\n",
    "    savefig = './generated_data/plot.png'\n",
    "    \n",
    "    start_trade = df['Open'][end_index + 1]\n",
    "    end_trade = df['Close'][end_index + trade_delta]\n",
    "    if end_trade/start_trade >= 1 + min_profit/100:\n",
    "        trade_class = 'long'\n",
    "    elif end_trade/start_trade <= 1 - min_profit/100:\n",
    "        trade_class = 'short'\n",
    "    else:\n",
    "        trade_class = 'wait'\n",
    "\n",
    "    df_plot = df.iloc[start_index:end_index,:]\n",
    "    erase_color = 'black'\n",
    "\n",
    "    mc = mpf.make_marketcolors(up = 'g',down = 'r',\n",
    "                               wick = 'inherit',\n",
    "                               edge = 'inherit',\n",
    "                               volume = 'grey')\n",
    "    s = mpf.make_mpf_style(marketcolors = mc,\n",
    "                           facecolor = erase_color,\n",
    "                           edgecolor = erase_color,\n",
    "                           figcolor = erase_color)\n",
    "    addplot = mpf.make_addplot(df_plot[add])\n",
    "    plot = mpf.plot(df_plot, type = 'candle',\n",
    "                             volume = True,\n",
    "                             style = s,\n",
    "                             addplot = addplot,\n",
    "                             savefig = savefig)\n",
    "\n",
    "    uncropped_plot = Image.open(savefig)\n",
    "    box = (uncropped_plot.size[0]*0.202,\n",
    "           uncropped_plot.size[1]*0.11,\n",
    "           uncropped_plot.size[0]*0.88,\n",
    "           uncropped_plot.size[1]*0.85)\n",
    "\n",
    "    cropped_plot = uncropped_plot.crop(box).save(f'{save_name}_{trade_class}.png')\n",
    "    return (start_trade, end_trade, trade_class)\n",
    "    "
   ]
  },
  {
   "cell_type": "code",
   "execution_count": 9,
   "metadata": {
    "tags": []
   },
   "outputs": [
    {
     "output_type": "stream",
     "name": "stdout",
     "text": "3335 imagens geradas.\n"
    }
   ],
   "source": [
    "'''\n",
    "Chamamento das funções de geração dos gráficos\n",
    "Implementar o loop for\n",
    "'''\n",
    "\n",
    "charts_path.mkdir(parents=True, exist_ok=True)\n",
    "date_range = pd.date_range(start='2007-01-01', end='2020-06-30')\n",
    "trade_delta = 3\n",
    "min_profit = 1.5 # in %\n",
    "chart_delta = 22\n",
    "ind_columns = list(df.columns)[5:9]\n",
    "\n",
    "count = 0\n",
    "for date in date_range:\n",
    "    try:\n",
    "        file_date = date.strftime('%Y-%m-%d')\n",
    "        save_name = charts_path/f'{asset}_{file_date}'\n",
    "        out = gen_chart(df, date, trade_delta, min_profit, chart_delta, ind_columns, save_name)\n",
    "        count += 1\n",
    "        # print(f'{file_date} {out[0]} {out[1]} {out[2]}')\n",
    "    except KeyError or IndexError:\n",
    "        continue\n",
    "print(f'{count} imagens geradas.')"
   ]
  },
  {
   "cell_type": "code",
   "execution_count": null,
   "metadata": {},
   "outputs": [],
   "source": []
  }
 ],
 "metadata": {
  "kernelspec": {
   "display_name": "Python 3.7.7 64-bit ('Trade': conda)",
   "language": "python",
   "name": "python_defaultSpec_1598310234544"
  },
  "language_info": {
   "codemirror_mode": {
    "name": "ipython",
    "version": 3
   },
   "file_extension": ".py",
   "mimetype": "text/x-python",
   "name": "python",
   "nbconvert_exporter": "python",
   "pygments_lexer": "ipython3",
   "version": "3.7.7-final"
  }
 },
 "nbformat": 4,
 "nbformat_minor": 4
}