{
 "cells": [
  {
   "cell_type": "code",
   "execution_count": 1,
   "metadata": {},
   "outputs": [
    {
     "output_type": "execute_result",
     "data": {
      "text/plain": "'\\nArquivos:\\n- Estabelecer a forma de guardar os arquivos conforme necessidade da CNN\\n\\nFunções:\\n- Função de importação de arquivo com as seguintes colunas:\\n    Open High Low Close Volume + Indicadores\\n  Esta mesma função fará os índices das linhas serem as datas\\n- Função de escolha do intervalo de dias a terem o gráfico montado\\n- Função que gera o gráfico de candlestick com volume e indicadores\\n\\n'"
     },
     "metadata": {},
     "execution_count": 1
    }
   ],
   "source": [
    "'''\n",
    "Arquivos:\n",
    "- Estabelecer a forma de guardar os arquivos conforme necessidade da CNN\n",
    "\n",
    "Funções:\n",
    "- Função de importação de arquivo com as seguintes colunas:\n",
    "    Open High Low Close Volume + Indicadores\n",
    "  Esta mesma função fará os índices das linhas serem as datas\n",
    "- Função de escolha do intervalo de dias a terem o gráfico montado\n",
    "- Função que gera o gráfico de candlestick com volume e indicadores\n",
    "\n",
    "'''"
   ]
  },
  {
   "cell_type": "code",
   "execution_count": 2,
   "metadata": {},
   "outputs": [],
   "source": [
    "import numpy as np\n",
    "import pandas as pd\n",
    "import matplotlib.pyplot as plt\n",
    "import mplfinance as mpf\n",
    "from datetime import datetime\n",
    "from datetime import timedelta\n",
    "from PIL import Image"
   ]
  },
  {
   "cell_type": "code",
   "execution_count": 3,
   "metadata": {
    "tags": []
   },
   "outputs": [
    {
     "output_type": "execute_result",
     "data": {
      "text/plain": "             Open   High    Low  Close    Volume  MME009  MMA021  MMA200  \\\nData                                                                       \n2006-11-03  45.11  45.90  44.04  45.15  19193744   43.41   41.81   46.50   \n2006-11-06  45.20  46.72  44.20  46.50  32347216   44.03   41.99   46.49   \n2006-11-07  46.50  47.51  45.46  47.50  43484428   44.72   42.34   46.49   \n2006-11-08  47.39  47.90  46.14  47.75  52434539   45.33   42.76   46.50   \n2006-11-09  47.82  48.15  45.80  46.05  18398881   45.47   43.04   46.50   \n\n            MMA051  MMA080  MMA400  MME400  \nData                                        \n2006-11-03   43.11   42.18   36.51   36.51  \n2006-11-06   43.19   42.23   36.57   36.56  \n2006-11-07   43.30   42.31   36.64   36.62  \n2006-11-08   43.40   42.41   36.71   36.67  \n2006-11-09   43.45   42.51   36.77   36.72  ",
      "text/html": "<div>\n<style scoped>\n    .dataframe tbody tr th:only-of-type {\n        vertical-align: middle;\n    }\n\n    .dataframe tbody tr th {\n        vertical-align: top;\n    }\n\n    .dataframe thead th {\n        text-align: right;\n    }\n</style>\n<table border=\"1\" class=\"dataframe\">\n  <thead>\n    <tr style=\"text-align: right;\">\n      <th></th>\n      <th>Open</th>\n      <th>High</th>\n      <th>Low</th>\n      <th>Close</th>\n      <th>Volume</th>\n      <th>MME009</th>\n      <th>MMA021</th>\n      <th>MMA200</th>\n      <th>MMA051</th>\n      <th>MMA080</th>\n      <th>MMA400</th>\n      <th>MME400</th>\n    </tr>\n    <tr>\n      <th>Data</th>\n      <th></th>\n      <th></th>\n      <th></th>\n      <th></th>\n      <th></th>\n      <th></th>\n      <th></th>\n      <th></th>\n      <th></th>\n      <th></th>\n      <th></th>\n      <th></th>\n    </tr>\n  </thead>\n  <tbody>\n    <tr>\n      <th>2006-11-03</th>\n      <td>45.11</td>\n      <td>45.90</td>\n      <td>44.04</td>\n      <td>45.15</td>\n      <td>19193744</td>\n      <td>43.41</td>\n      <td>41.81</td>\n      <td>46.50</td>\n      <td>43.11</td>\n      <td>42.18</td>\n      <td>36.51</td>\n      <td>36.51</td>\n    </tr>\n    <tr>\n      <th>2006-11-06</th>\n      <td>45.20</td>\n      <td>46.72</td>\n      <td>44.20</td>\n      <td>46.50</td>\n      <td>32347216</td>\n      <td>44.03</td>\n      <td>41.99</td>\n      <td>46.49</td>\n      <td>43.19</td>\n      <td>42.23</td>\n      <td>36.57</td>\n      <td>36.56</td>\n    </tr>\n    <tr>\n      <th>2006-11-07</th>\n      <td>46.50</td>\n      <td>47.51</td>\n      <td>45.46</td>\n      <td>47.50</td>\n      <td>43484428</td>\n      <td>44.72</td>\n      <td>42.34</td>\n      <td>46.49</td>\n      <td>43.30</td>\n      <td>42.31</td>\n      <td>36.64</td>\n      <td>36.62</td>\n    </tr>\n    <tr>\n      <th>2006-11-08</th>\n      <td>47.39</td>\n      <td>47.90</td>\n      <td>46.14</td>\n      <td>47.75</td>\n      <td>52434539</td>\n      <td>45.33</td>\n      <td>42.76</td>\n      <td>46.50</td>\n      <td>43.40</td>\n      <td>42.41</td>\n      <td>36.71</td>\n      <td>36.67</td>\n    </tr>\n    <tr>\n      <th>2006-11-09</th>\n      <td>47.82</td>\n      <td>48.15</td>\n      <td>45.80</td>\n      <td>46.05</td>\n      <td>18398881</td>\n      <td>45.47</td>\n      <td>43.04</td>\n      <td>46.50</td>\n      <td>43.45</td>\n      <td>42.51</td>\n      <td>36.77</td>\n      <td>36.72</td>\n    </tr>\n  </tbody>\n</table>\n</div>"
     },
     "metadata": {},
     "execution_count": 3
    }
   ],
   "source": [
    "'''\n",
    "Importa os dados do ativo e renomeia as colunas\n",
    "'''\n",
    "\n",
    "file_name = 'BTOW3_1d.xlsx'\n",
    "path = '../collected_ data/' + file_name\n",
    "\n",
    "inplace = True\n",
    "df_input = pd.read_excel(path)\n",
    "df_input.dropna(inplace = inplace)\n",
    "df_input.set_index('Data', inplace = inplace)\n",
    "df_input.sort_index(axis = 0, inplace = inplace)\n",
    "df_input.rename(inplace = inplace, columns = {\n",
    "    'Abertura': 'Open',\n",
    "    'Máxima': 'High',\n",
    "    'Mínima': 'Low',\n",
    "    'Fechamento': 'Close',\n",
    "    'Volume Financeiro': 'Volume',\n",
    "    'Média Móvel E [9]': 'MME009',\n",
    "    'Média Móvel A [21]': 'MMA021',\n",
    "    'Média Móvel A [200]': 'MMA200',\n",
    "    'Média Móvel A [51]': 'MMA051',\n",
    "    'Média Móvel A [80]': 'MMA080',\n",
    "    'Média Móvel A [400]': 'MMA400',\n",
    "    'Média Móvel E [400]': 'MME400'\n",
    "})\n",
    "df_input.head()"
   ]
  },
  {
   "cell_type": "markdown",
   "metadata": {},
   "source": [
    "import numpy as np\n",
    "import pandas as pd\n",
    "import matplotlib.pyplot as plt\n",
    "import mplfinance as mpf\n",
    "from datetime import timedelta strptime"
   ]
  },
  {
   "cell_type": "code",
   "execution_count": 4,
   "metadata": {
    "tags": []
   },
   "outputs": [
    {
     "output_type": "execute_result",
     "data": {
      "text/plain": "             Open   High    Low  Close    Volume  MMA021  MMA051  MMA080  \\\nData                                                                       \n2006-11-03  45.11  45.90  44.04  45.15  19193744   41.81   43.11   42.18   \n2006-11-06  45.20  46.72  44.20  46.50  32347216   41.99   43.19   42.23   \n2006-11-07  46.50  47.51  45.46  47.50  43484428   42.34   43.30   42.31   \n2006-11-08  47.39  47.90  46.14  47.75  52434539   42.76   43.40   42.41   \n2006-11-09  47.82  48.15  45.80  46.05  18398881   43.04   43.45   42.51   \n\n            MMA200  MMA400  MME009  MME400  \nData                                        \n2006-11-03   46.50   36.51   43.41   36.51  \n2006-11-06   46.49   36.57   44.03   36.56  \n2006-11-07   46.49   36.64   44.72   36.62  \n2006-11-08   46.50   36.71   45.33   36.67  \n2006-11-09   46.50   36.77   45.47   36.72  ",
      "text/html": "<div>\n<style scoped>\n    .dataframe tbody tr th:only-of-type {\n        vertical-align: middle;\n    }\n\n    .dataframe tbody tr th {\n        vertical-align: top;\n    }\n\n    .dataframe thead th {\n        text-align: right;\n    }\n</style>\n<table border=\"1\" class=\"dataframe\">\n  <thead>\n    <tr style=\"text-align: right;\">\n      <th></th>\n      <th>Open</th>\n      <th>High</th>\n      <th>Low</th>\n      <th>Close</th>\n      <th>Volume</th>\n      <th>MMA021</th>\n      <th>MMA051</th>\n      <th>MMA080</th>\n      <th>MMA200</th>\n      <th>MMA400</th>\n      <th>MME009</th>\n      <th>MME400</th>\n    </tr>\n    <tr>\n      <th>Data</th>\n      <th></th>\n      <th></th>\n      <th></th>\n      <th></th>\n      <th></th>\n      <th></th>\n      <th></th>\n      <th></th>\n      <th></th>\n      <th></th>\n      <th></th>\n      <th></th>\n    </tr>\n  </thead>\n  <tbody>\n    <tr>\n      <th>2006-11-03</th>\n      <td>45.11</td>\n      <td>45.90</td>\n      <td>44.04</td>\n      <td>45.15</td>\n      <td>19193744</td>\n      <td>41.81</td>\n      <td>43.11</td>\n      <td>42.18</td>\n      <td>46.50</td>\n      <td>36.51</td>\n      <td>43.41</td>\n      <td>36.51</td>\n    </tr>\n    <tr>\n      <th>2006-11-06</th>\n      <td>45.20</td>\n      <td>46.72</td>\n      <td>44.20</td>\n      <td>46.50</td>\n      <td>32347216</td>\n      <td>41.99</td>\n      <td>43.19</td>\n      <td>42.23</td>\n      <td>46.49</td>\n      <td>36.57</td>\n      <td>44.03</td>\n      <td>36.56</td>\n    </tr>\n    <tr>\n      <th>2006-11-07</th>\n      <td>46.50</td>\n      <td>47.51</td>\n      <td>45.46</td>\n      <td>47.50</td>\n      <td>43484428</td>\n      <td>42.34</td>\n      <td>43.30</td>\n      <td>42.31</td>\n      <td>46.49</td>\n      <td>36.64</td>\n      <td>44.72</td>\n      <td>36.62</td>\n    </tr>\n    <tr>\n      <th>2006-11-08</th>\n      <td>47.39</td>\n      <td>47.90</td>\n      <td>46.14</td>\n      <td>47.75</td>\n      <td>52434539</td>\n      <td>42.76</td>\n      <td>43.40</td>\n      <td>42.41</td>\n      <td>46.50</td>\n      <td>36.71</td>\n      <td>45.33</td>\n      <td>36.67</td>\n    </tr>\n    <tr>\n      <th>2006-11-09</th>\n      <td>47.82</td>\n      <td>48.15</td>\n      <td>45.80</td>\n      <td>46.05</td>\n      <td>18398881</td>\n      <td>43.04</td>\n      <td>43.45</td>\n      <td>42.51</td>\n      <td>46.50</td>\n      <td>36.77</td>\n      <td>45.47</td>\n      <td>36.72</td>\n    </tr>\n  </tbody>\n</table>\n</div>"
     },
     "metadata": {},
     "execution_count": 4
    }
   ],
   "source": [
    "'''\n",
    "Cria reordena as colunas dos indicadores em ordem alfabética\n",
    "'''\n",
    "\n",
    "df_candle = df_input[['Open', 'High', 'Low', 'Close', 'Volume']]\n",
    "df_ind = df_input.reindex(sorted(df_input.columns[5:]), axis = 1)\n",
    "df = pd.concat([df_candle, df_ind], axis=1)\n",
    "df.head()"
   ]
  },
  {
   "cell_type": "code",
   "execution_count": 5,
   "metadata": {
    "tags": []
   },
   "outputs": [
    {
     "output_type": "stream",
     "name": "stdout",
     "text": "<class 'pandas.core.frame.DataFrame'>\nDatetimeIndex: 3400 entries, 2006-11-03 to 2020-08-07\nData columns (total 12 columns):\n #   Column  Non-Null Count  Dtype  \n---  ------  --------------  -----  \n 0   Open    3400 non-null   float64\n 1   High    3400 non-null   float64\n 2   Low     3400 non-null   float64\n 3   Close   3400 non-null   float64\n 4   Volume  3400 non-null   int64  \n 5   MMA021  3400 non-null   float64\n 6   MMA051  3400 non-null   float64\n 7   MMA080  3400 non-null   float64\n 8   MMA200  3400 non-null   float64\n 9   MMA400  3400 non-null   float64\n 10  MME009  3400 non-null   float64\n 11  MME400  3400 non-null   float64\ndtypes: float64(11), int64(1)\nmemory usage: 345.3 KB\n"
    }
   ],
   "source": [
    "df.info()"
   ]
  },
  {
   "cell_type": "code",
   "execution_count": 6,
   "metadata": {
    "tags": []
   },
   "outputs": [
    {
     "output_type": "stream",
     "name": "stdout",
     "text": "Data Frame válido.\n"
    }
   ],
   "source": [
    "'''\n",
    "Verifica se o dataframe reordenado é igual ao original\n",
    "'''\n",
    "\n",
    "columns = list(df.columns)\n",
    "eq = True\n",
    "for col in columns:\n",
    "   eq = eq*df[col].equals(df_input[col])\n",
    "if eq:\n",
    "    print(\"Data Frame válido.\")\n",
    "else:\n",
    "    print(\"Data Frame inválido!!!!\")"
   ]
  },
  {
   "cell_type": "code",
   "execution_count": 7,
   "metadata": {
    "tags": []
   },
   "outputs": [],
   "source": [
    "'''\n",
    "Aprender a gerar os gráficos para então iterar os intervalos de data\n",
    "'''\n",
    "\n",
    "def plot_chart(df, start_date, end_date, add):\n",
    "    df_plot = df.loc[start_date:end_date,:]\n",
    "    erase_color = 'black'\n",
    "\n",
    "    mc = mpf.make_marketcolors(up = 'g', down = 'r', wick = 'inherit', edge = 'inherit', volume = 'silver')\n",
    "    s = mpf.make_mpf_style(marketcolors = mc, facecolor = erase_color, edgecolor = erase_color, figcolor = erase_color)\n",
    "    addplot = mpf.make_addplot(df_plot[add])\n",
    "    \n",
    "    return mpf.plot(df_plot, type = 'candle', volume = True, style = s, addplot = addplot, savefig = '../generated_data/teste.png')\n",
    "\n",
    "ind_columns = list(df.columns)[5:]\n",
    "start_date = '2020-01-01'\n",
    "date_delta = 65\n",
    "end_date = datetime.strptime(start_date, '%Y-%m-%d') + timedelta(days = date_delta)\n",
    "end_date = end_date.strftime('%Y-%m-%d')\n",
    "\n",
    "plot = plot_chart(df, start_date, end_date, ind_columns)"
   ]
  },
  {
   "cell_type": "code",
   "execution_count": 8,
   "metadata": {
    "tags": []
   },
   "outputs": [],
   "source": [
    "# Implementar o crop na função plot_chat()\n",
    "\n",
    "box = (170, 65, 695, 478)\n",
    "\n",
    "# Para salvar em PNG\n",
    "im = Image.open('../generated_data/teste.png')\n",
    "im_crop = im.crop(box).save('../generated_data/teste_crop.png')\n",
    "\n",
    "# Para salvar em JPG\n",
    "# im = Image.open('../generated_data/teste.png').convert('RGB')\n",
    "# im_crop = im.crop(box).save('../generated_data/teste_crop.jpg', quality = 95)"
   ]
  },
  {
   "cell_type": "code",
   "execution_count": null,
   "metadata": {},
   "outputs": [],
   "source": []
  }
 ],
 "metadata": {
  "kernelspec": {
   "display_name": "Python 3.7.7 64-bit ('Trade': conda)",
   "language": "python",
   "name": "python_defaultSpec_1597284829705"
  },
  "language_info": {
   "codemirror_mode": {
    "name": "ipython",
    "version": 3
   },
   "file_extension": ".py",
   "mimetype": "text/x-python",
   "name": "python",
   "nbconvert_exporter": "python",
   "pygments_lexer": "ipython3",
   "version": "3.7.7-final"
  }
 },
 "nbformat": 4,
 "nbformat_minor": 4
}