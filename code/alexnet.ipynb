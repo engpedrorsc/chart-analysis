{
 "metadata": {
  "language_info": {
   "codemirror_mode": {
    "name": "ipython",
    "version": 3
   },
   "file_extension": ".py",
   "mimetype": "text/x-python",
   "name": "python",
   "nbconvert_exporter": "python",
   "pygments_lexer": "ipython3",
   "version": 3
  },
  "orig_nbformat": 2
 },
 "nbformat": 4,
 "nbformat_minor": 2,
 "cells": [
  {
   "cell_type": "code",
   "execution_count": null,
   "metadata": {},
   "outputs": [],
   "source": [
    "'''\n",
    "Notebook dedicado à implementação e teste da AlexNet\n",
    "https://www.youtube.com/watch?v=8GheVe2UmUM\n",
    "../references/ImageNet Classification with Deep ConvolutionalNeural Networks.pdf\n",
    "\n",
    "'''"
   ]
  }
 ]
}