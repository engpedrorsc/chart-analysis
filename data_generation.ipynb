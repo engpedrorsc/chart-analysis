{
 "cells": [
  {
   "cell_type": "code",
   "execution_count": null,
   "metadata": {},
   "outputs": [],
   "source": [
    "'''\n",
    "Arquivos:\n",
    "- Estabelecer a forma de guardar os arquivos conforme necessidade da CNN\n",
    "\n",
    "Funções:\n",
    "- Função de importação de arquivo com as seguintes colunas:\n",
    "    Open High Low Close Volume + Indicadores\n",
    "  Esta mesma função fará os índices das linhas serem as datas\n",
    "- Função de escolha do intervalo de dias a terem o gráfico montado\n",
    "- Função que gera o gráfico de candlestick com volume e indicadores\n",
    "\n",
    "'''"
   ]
  },
  {
   "cell_type": "code",
   "execution_count": 1,
   "metadata": {},
   "outputs": [],
   "source": [
    "import numpy as np\n",
    "import pandas as pd\n",
    "import matplotlib.pyplot as plt\n",
    "import mplfinance as mpf\n",
    "from datetime import datetime\n",
    "from datetime import timedelta\n",
    "from PIL import Image\n",
    "from glob import glob\n"
   ]
  },
  {
   "cell_type": "code",
   "execution_count": 2,
   "metadata": {
    "tags": []
   },
   "outputs": [],
   "source": [
    "'''\n",
    "Importa os dados do ativo e renomeia as colunas\n",
    "'''\n",
    "\n",
    "asset = 'BTOW3'\n",
    "time_frame = '1d'\n",
    "file_name = asset + '_' + time_frame + '.xlsx'\n",
    "path = './collected_ data/' + file_name\n",
    "\n",
    "inplace = True\n",
    "df_input = pd.read_excel(path)\n",
    "df_input.dropna(inplace = inplace)\n",
    "df_input.set_index('Data', inplace = inplace)\n",
    "df_input.sort_index(axis = 0, inplace = inplace)\n",
    "df_input.rename(inplace = inplace, columns = {\n",
    "    'Abertura': 'Open',\n",
    "    'Máxima': 'High',\n",
    "    'Mínima': 'Low',\n",
    "    'Fechamento': 'Close',\n",
    "    'Volume Financeiro': 'Volume',\n",
    "    'Média Móvel E [9]': 'MME009',\n",
    "    'Média Móvel A [21]': 'MMA021',\n",
    "    'Média Móvel A [200]': 'MMA200',\n",
    "    'Média Móvel A [51]': 'MMA051',\n",
    "    'Média Móvel A [80]': 'MMA080',\n",
    "    'Média Móvel A [400]': 'MMA400',\n",
    "    'Média Móvel E [400]': 'MME400'})\n",
    "\n",
    "# df_input.head()\n"
   ]
  },
  {
   "cell_type": "code",
   "execution_count": 3,
   "metadata": {
    "tags": []
   },
   "outputs": [],
   "source": [
    "'''\n",
    "Cria reordena as colunas dos indicadores em ordem alfabética\n",
    "'''\n",
    "\n",
    "df_candle = df_input[['Open', 'High', 'Low', 'Close', 'Volume']]\n",
    "df_ind = df_input.reindex(sorted(df_input.columns[5:]), axis = 1)\n",
    "df = pd.concat([df_candle, df_ind], axis=1)\n",
    "\n",
    "# df.head()\n"
   ]
  },
  {
   "cell_type": "code",
   "execution_count": 4,
   "metadata": {
    "tags": []
   },
   "outputs": [
    {
     "output_type": "stream",
     "name": "stdout",
     "text": "Data Frame válido.\n"
    }
   ],
   "source": [
    "'''\n",
    "Verifica se o dataframe reordenado é igual ao original\n",
    "'''\n",
    "\n",
    "columns = list(df.columns)\n",
    "eq = True\n",
    "for col in columns:\n",
    "   eq = eq*df[col].equals(df_input[col])\n",
    "if eq:\n",
    "    print(\"Data Frame válido.\")\n",
    "else:\n",
    "    print(\"Data Frame inválido!!!!\")\n",
    "    "
   ]
  },
  {
   "cell_type": "code",
   "execution_count": 5,
   "metadata": {
    "tags": []
   },
   "outputs": [],
   "source": [
    "'''\n",
    "Aprender a gerar os gráficos para então iterar os intervalos de data\n",
    "'''\n",
    "\n",
    "def date_delta(start_date, delta): # Função sem uso por enquanto\n",
    "    end_date = datetime.strptime(start_date, '%Y-%m-%d') + timedelta(days = delta)\n",
    "    return end_date.strftime('%Y-%m-%d')\n",
    "\n",
    "\n",
    "def clean_folder(path, match):\n",
    "    files_list = glob(path + f'/*{match}*')\n",
    "    # Escrever loop para deletar os arquivos da lista\n",
    "    return\n",
    "\n",
    "\n",
    "def gen_chart(df, date, trade_delta, min_profit, chart_delta, add, save_name):\n",
    "    end_index = df.index.get_loc(date)\n",
    "    start_index = end_index - chart_delta\n",
    "    \n",
    "    start_trade = df['Open'][end_index + 1]\n",
    "    end_trade = df['Close'][end_index + trade_delta]\n",
    "    if end_trade/start_trade >= 1 + min_profit/100:\n",
    "        trade_class = 'long'\n",
    "    elif end_trade/start_trade <= 1 - min_profit/100:\n",
    "        trade_class = 'short'\n",
    "    else:\n",
    "        trade_class = 'wait'\n",
    "\n",
    "    df_plot = df.iloc[start_index:end_index,:]\n",
    "    erase_color = 'black'\n",
    "\n",
    "    mc = mpf.make_marketcolors(up = 'g',down = 'r',\n",
    "                               wick = 'inherit',\n",
    "                               edge = 'inherit',\n",
    "                               volume = 'grey')\n",
    "    s = mpf.make_mpf_style(marketcolors = mc,\n",
    "                           facecolor = erase_color,\n",
    "                           edgecolor = erase_color,\n",
    "                           figcolor = erase_color)\n",
    "    addplot = mpf.make_addplot(df_plot[add])\n",
    "    plot = mpf.plot(df_plot, type = 'candle',\n",
    "                             volume = True,\n",
    "                             style = s,\n",
    "                             addplot = addplot,\n",
    "                             savefig = './generated_data/plot.png')\n",
    "\n",
    "    uncropped_plot = Image.open('./generated_data/plot.png')\n",
    "    box = (uncropped_plot.size[0]*0.202,\n",
    "           uncropped_plot.size[1]*0.11,\n",
    "           uncropped_plot.size[0]*0.88,\n",
    "           uncropped_plot.size[1]*0.85)\n",
    "\n",
    "    file_name = f'./generated_data/{save_name}_{trade_class}.png'\n",
    "    cropped_plot = uncropped_plot.crop(box).save(file_name)\n",
    "    return (start_trade, end_trade, trade_class)\n",
    "    "
   ]
  },
  {
   "cell_type": "code",
   "execution_count": 6,
   "metadata": {
    "tags": []
   },
   "outputs": [
    {
     "output_type": "stream",
     "name": "stdout",
     "text": "2019-12-02 58.7 59.5 long\n2019-12-03 59.7 61.41 long\n2019-12-04 59.18 60.73 long\n2019-12-05 59.26 61.3 long\n2019-12-06 61.1 61.4 wait\n2019-12-09 60.7 64.61 long\n2019-12-10 61.05 66.2 long\n2019-12-11 61.4 66.54 long\n2019-12-12 64.3 64.28 wait\n2019-12-13 67.3 63.88 short\n2019-12-16 66.49 63.81 short\n2019-12-17 64.39 62.7 short\n2019-12-18 63.98 62.6 short\n2019-12-19 63.47 62.73 short\n2019-12-20 62.7 62.4 wait\n2019-12-23 62.86 62.86 wait\n2019-12-26 63.0 65.18 long\n2019-12-27 62.51 64.3 long\n2019-12-30 62.87 63.9 long\n2020-01-02 64.44 63.74 short\n2020-01-03 64.02 64.59 wait\n2020-01-06 64.0 68.04 long\n2020-01-07 63.7 66.78 long\n2020-01-08 64.83 69.17 long\n2020-01-09 68.1 68.35 wait\n2020-01-10 66.7 70.11 long\n2020-01-13 68.5 70.36 long\n2020-01-14 68.0 71.26 long\n2020-01-15 70.46 75.68 long\n2020-01-16 70.44 76.56 long\n2020-01-17 71.2 75.85 long\n2020-01-20 75.03 75.35 wait\n2020-01-21 77.47 74.25 short\n2020-01-22 74.95 72.13 short\n2020-01-23 75.05 75.05 wait\n2020-01-24 72.2 75.44 long\n2020-01-27 72.18 74.0 long\n2020-01-28 75.94 71.2 short\n2020-01-29 72.67 71.42 short\n2020-01-30 73.19 73.45 wait\n2020-01-31 71.92 73.5 long\n2020-02-03 72.75 71.5 short\n2020-02-04 74.65 67.96 short\n2020-02-05 74.5 65.77 short\n2020-02-06 71.5 70.6 short\n2020-02-07 67.75 70.93 long\n2020-02-10 66.21 73.33 long\n2020-02-11 70.8 70.6 wait\n2020-02-12 69.33 71.65 long\n2020-02-13 73.21 72.0 short\n2020-02-14 70.91 73.2 long\n2020-02-17 71.2 70.99 wait\n2020-02-18 72.0 72.76 long\n2020-02-19 73.2 65.68 short\n2020-02-20 69.52 62.71 short\n2020-02-21 69.05 62.15 short\n2020-02-26 64.92 63.35 short\n2020-02-27 62.2 66.51 long\n2020-02-28 62.4 68.58 long\n2020-03-02 63.85 62.35 short\n2020-03-03 68.0 56.26 short\n2020-03-04 67.81 49.25 short\n2020-03-05 57.56 54.92 short\n2020-03-06 50.1 51.79 long\n2020-03-09 54.3 43.0 short\n2020-03-10 52.09 54.78 long\n2020-03-11 47.9 49.5 long\n2020-03-12 51.0 53.7 long\n2020-03-13 45.1 51.0 long\n2020-03-16 51.54 48.67 short\n2020-03-17 48.9 49.21 wait\n2020-03-18 49.97 45.34 short\n2020-03-19 51.52 54.8 long\n2020-03-20 49.0 60.0 long\n2020-03-23 48.2 56.11 long\n2020-03-24 54.25 51.28 short\n2020-03-25 60.65 50.99 short\n2020-03-26 53.25 48.0 short\n2020-03-27 52.45 48.08 short\n2020-03-30 50.76 49.74 short\n2020-03-31 46.08 45.1 short\n2020-04-01 48.65 53.84 long\n2020-04-02 49.33 57.5 long\n2020-04-03 48.1 61.39 long\n2020-04-06 58.59 57.73 short\n2020-04-07 57.5 58.3 long\n2020-04-08 62.05 59.5 short\n2020-04-09 56.8 62.8 long\n2020-04-13 60.29 64.69 long\n2020-04-14 57.9 61.8 long\n2020-04-15 63.81 64.66 long\n2020-04-16 66.22 75.75 long\n2020-04-17 60.0 72.8 long\n2020-04-20 65.72 68.68 long\n2020-04-22 77.0 75.19 short\n2020-04-23 71.05 77.21 long\n2020-04-24 71.72 77.79 long\n2020-04-27 77.01 73.25 short\n2020-04-28 79.1 74.07 short\n2020-04-29 75.7 74.86 short\n2020-04-30 72.0 89.18 long\n"
    }
   ],
   "source": [
    "'''\n",
    "Chamamento das funções de geração dos gráficos\n",
    "Implementar o loop for\n",
    "'''\n",
    "\n",
    "date_range = pd.date_range(start='2019-12-01', end='2020-04-30')\n",
    "trade_delta = 3\n",
    "min_profit = 1 # in %\n",
    "chart_delta = 22\n",
    "ind_columns = list(df.columns)[5:9]\n",
    "\n",
    "for date in date_range:\n",
    "    try:\n",
    "        file_date = date.strftime('%Y-%m-%d')\n",
    "        save_name = f'{asset}/{asset}_{file_date}'\n",
    "        out = gen_chart(df, date, trade_delta, min_profit, chart_delta, ind_columns, save_name)\n",
    "        print(f'{file_date} {out[0]} {out[1]} {out[2]}')\n",
    "    except KeyError:\n",
    "        continue\n",
    "    except IndexError:\n",
    "        continue\n"
   ]
  },
  {
   "cell_type": "code",
   "execution_count": null,
   "metadata": {},
   "outputs": [],
   "source": []
  }
 ],
 "metadata": {
  "kernelspec": {
   "display_name": "Python 3.7.7 64-bit ('Trade': conda)",
   "language": "python",
   "name": "python_defaultSpec_1598229757139"
  },
  "language_info": {
   "codemirror_mode": {
    "name": "ipython",
    "version": 3
   },
   "file_extension": ".py",
   "mimetype": "text/x-python",
   "name": "python",
   "nbconvert_exporter": "python",
   "pygments_lexer": "ipython3",
   "version": "3.7.7-final"
  }
 },
 "nbformat": 4,
 "nbformat_minor": 4
}