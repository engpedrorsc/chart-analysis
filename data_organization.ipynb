{
 "metadata": {
  "language_info": {
   "codemirror_mode": {
    "name": "ipython",
    "version": 3
   },
   "file_extension": ".py",
   "mimetype": "text/x-python",
   "name": "python",
   "nbconvert_exporter": "python",
   "pygments_lexer": "ipython3",
   "version": "3.7.7-final"
  },
  "orig_nbformat": 2,
  "kernelspec": {
   "name": "python_defaultSpec_1598562083067",
   "display_name": "Python 3.7.7 64-bit ('Trade': conda)"
  }
 },
 "nbformat": 4,
 "nbformat_minor": 2,
 "cells": [
  {
   "cell_type": "code",
   "execution_count": 1,
   "metadata": {},
   "outputs": [],
   "source": [
    "from pathlib import Path\n",
    "import random\n",
    "import glob\n",
    "import shutil\n",
    "from math import ceil, floor\n",
    "\n",
    "class AssetNotFoundError(OSError):\n",
    "    pass\n"
   ]
  },
  {
   "cell_type": "code",
   "execution_count": null,
   "metadata": {},
   "outputs": [],
   "source": [
    "'''\n",
    "Functions\n",
    "'''\n",
    "\n",
    "\n"
   ]
  },
  {
   "cell_type": "code",
   "execution_count": 34,
   "metadata": {},
   "outputs": [],
   "source": [
    "asset = 'VALE3' # Transformar em lista\n",
    "classes = ['long', 'short', 'wait']\n",
    "steps = ['train', 'valid', 'test']\n",
    "sampling = [70,15,15]\n",
    "if sum(sampling) != 100:\n",
    "    raise Exception('The sampling sum must be equal to 100.')\n",
    "data_path = Path(f'./generated_data/{asset}')\n"
   ]
  },
  {
   "cell_type": "code",
   "execution_count": 3,
   "metadata": {},
   "outputs": [],
   "source": [
    "if not Path.is_dir(data_path):\n",
    "    raise AssetNotFoundError('Asset folder not found.')\n"
   ]
  },
  {
   "cell_type": "code",
   "execution_count": 4,
   "metadata": {
    "tags": []
   },
   "outputs": [
    {
     "output_type": "stream",
     "name": "stdout",
     "text": "4935 available images.\n"
    }
   ],
   "source": [
    "available_imgs = float('inf')\n",
    "for i in range(0,len(classes)):\n",
    "    search_str = str(data_path/f'*{classes[i]}*')\n",
    "    search_res = glob.glob(search_str)\n",
    "    if len(search_res) * 3 < available_imgs:\n",
    "        available_imgs = len(search_res) * 3\n",
    "\n",
    "print(f'{available_imgs} available images.')"
   ]
  },
  {
   "cell_type": "code",
   "execution_count": 5,
   "metadata": {
    "tags": []
   },
   "outputs": [
    {
     "output_type": "stream",
     "name": "stdout",
     "text": "Folder structure created.\n"
    }
   ],
   "source": [
    "for step in steps:\n",
    "    step_path = Path(data_path/step)\n",
    "    step_path.mkdir(exist_ok=True)\n",
    "    for classification in classes:\n",
    "        classification_path = Path(step_path/classification)\n",
    "        classification_path.mkdir(exist_ok=True)\n",
    "print('Folder structure created.')\n"
   ]
  },
  {
   "cell_type": "code",
   "execution_count": 36,
   "metadata": {
    "tags": []
   },
   "outputs": [
    {
     "output_type": "stream",
     "name": "stdout",
     "text": "train: 1152 for long   1152 for short   1152 for wait   \nvalid: 247 for long   247 for short   247 for wait\ntest: 246 for long   246 for short   246 for wait\n\nImages moved to destination folders.\n"
    }
   ],
   "source": [
    "samples_sizes = [0,0,0]\n",
    "samples_sizes[0] = ceil(sampling[0]/100 * available_imgs/3)\n",
    "samples_sizes[1] = ceil(sampling[1]/100 * available_imgs/3)\n",
    "samples_sizes[2] = int(available_imgs/3) - sum(samples_sizes)\n",
    "\n",
    "for i in range(0,len(steps)):\n",
    "    text = f'{steps[i]}: '\n",
    "    step_path = Path(data_path/steps[i])\n",
    "    for classification in classes:\n",
    "        text = text + f'{samples_sizes[i]} for {classification}   '\n",
    "        classification_path = Path(step_path/classification)\n",
    "        search_str = str(data_path/f'*{classification}*')\n",
    "        for chart in random.sample(glob.glob(search_str), samples_sizes[i]):\n",
    "            shutil.move(chart, classification_path)\n",
    "    print(text)\n",
    "print('\\nImages moved to destination folders.')\n"
   ]
  },
  {
   "cell_type": "code",
   "execution_count": null,
   "metadata": {
    "tags": []
   },
   "outputs": [],
   "source": []
  }
 ]
}