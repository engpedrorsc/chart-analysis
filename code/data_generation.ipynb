{
 "cells": [
  {
   "cell_type": "code",
   "execution_count": null,
   "metadata": {},
   "outputs": [],
   "source": [
    "'''\n",
    "Arquivos:\n",
    "- Estabelecer a forma de guardar os arquivos conforme necessidade da CNN\n",
    "\n",
    "Funções:\n",
    "- Função de importação de arquivo com as seguintes colunas:\n",
    "    Open High Low Close Volume + Indicadores\n",
    "  Esta mesma função fará os índices das linhas serem as datas\n",
    "- Função de escolha do intervalo de dias a terem o gráfico montado\n",
    "- Função que gera o gráfico de candlestick com volume e indicadores\n",
    "\n",
    "'''"
   ]
  },
  {
   "cell_type": "code",
   "execution_count": null,
   "metadata": {},
   "outputs": [],
   "source": [
    "import numpy as np\n",
    "import pandas as pd\n",
    "import matplotlib.pyplot as plt\n",
    "import mplfinance as mpf\n",
    "from datetime import datetime\n",
    "from datetime import timedelta\n",
    "from PIL import Image"
   ]
  },
  {
   "cell_type": "code",
   "execution_count": null,
   "metadata": {
    "tags": []
   },
   "outputs": [],
   "source": [
    "'''\n",
    "Importa os dados do ativo e renomeia as colunas\n",
    "'''\n",
    "\n",
    "file_name = 'BTOW3_1d.xlsx'\n",
    "path = '../collected_ data/' + file_name\n",
    "\n",
    "inplace = True\n",
    "df_input = pd.read_excel(path)\n",
    "df_input.dropna(inplace = inplace)\n",
    "df_input.set_index('Data', inplace = inplace)\n",
    "df_input.sort_index(axis = 0, inplace = inplace)\n",
    "df_input.rename(inplace = inplace, columns = {\n",
    "    'Abertura': 'Open',\n",
    "    'Máxima': 'High',\n",
    "    'Mínima': 'Low',\n",
    "    'Fechamento': 'Close',\n",
    "    'Volume Financeiro': 'Volume',\n",
    "    'Média Móvel E [9]': 'MME009',\n",
    "    'Média Móvel A [21]': 'MMA021',\n",
    "    'Média Móvel A [200]': 'MMA200',\n",
    "    'Média Móvel A [51]': 'MMA051',\n",
    "    'Média Móvel A [80]': 'MMA080',\n",
    "    'Média Móvel A [400]': 'MMA400',\n",
    "    'Média Móvel E [400]': 'MME400'\n",
    "})\n",
    "df_input.head()"
   ]
  },
  {
   "cell_type": "markdown",
   "metadata": {},
   "source": [
    "import numpy as np\n",
    "import pandas as pd\n",
    "import matplotlib.pyplot as plt\n",
    "import mplfinance as mpf\n",
    "from datetime import timedelta strptime"
   ]
  },
  {
   "cell_type": "code",
   "execution_count": null,
   "metadata": {
    "tags": []
   },
   "outputs": [],
   "source": [
    "'''\n",
    "Cria reordena as colunas dos indicadores em ordem alfabética\n",
    "'''\n",
    "\n",
    "df_candle = df_input[['Open', 'High', 'Low', 'Close', 'Volume']]\n",
    "df_ind = df_input.reindex(sorted(df_input.columns[5:]), axis = 1)\n",
    "df = pd.concat([df_candle, df_ind], axis=1)\n",
    "df.head()"
   ]
  },
  {
   "cell_type": "code",
   "execution_count": null,
   "metadata": {
    "tags": []
   },
   "outputs": [],
   "source": [
    "df.info()"
   ]
  },
  {
   "cell_type": "code",
   "execution_count": null,
   "metadata": {
    "tags": []
   },
   "outputs": [],
   "source": [
    "'''\n",
    "Verifica se o dataframe reordenado é igual ao original\n",
    "'''\n",
    "\n",
    "columns = list(df.columns)\n",
    "eq = True\n",
    "for col in columns:\n",
    "   eq = eq*df[col].equals(df_input[col])\n",
    "if eq:\n",
    "    print(\"Data Frame válido.\")\n",
    "else:\n",
    "    print(\"Data Frame inválido!!!!\")"
   ]
  },
  {
   "cell_type": "code",
   "execution_count": null,
   "metadata": {
    "tags": []
   },
   "outputs": [],
   "source": [
    "'''\n",
    "Aprender a gerar os gráficos para então iterar os intervalos de data\n",
    "'''\n",
    "\n",
    "def plot_chart(df, start_date, end_date, add):\n",
    "    df_plot = df.loc[start_date:end_date,:]\n",
    "    erase_color = 'black'\n",
    "\n",
    "    mc = mpf.make_marketcolors(up = 'g', down = 'r', wick = 'inherit', edge = 'inherit', volume = 'grey')\n",
    "    s = mpf.make_mpf_style(marketcolors = mc, facecolor = erase_color, edgecolor = erase_color, figcolor = erase_color)\n",
    "    addplot = mpf.make_addplot(df_plot[add])\n",
    "    \n",
    "    return mpf.plot(df_plot, type = 'candle', volume = True, style = s, addplot = addplot, savefig = '../generated_data/teste.png')\n",
    "\n",
    "ind_columns = list(df.columns)[5:9]\n",
    "start_date = '2007-01-01'\n",
    "date_delta = 1000\n",
    "end_date = datetime.strptime(start_date, '%Y-%m-%d') + timedelta(days = date_delta)\n",
    "end_date = end_date.strftime('%Y-%m-%d')\n",
    "\n",
    "plot = plot_chart(df, start_date, end_date, ind_columns)"
   ]
  },
  {
   "cell_type": "code",
   "execution_count": null,
   "metadata": {
    "tags": []
   },
   "outputs": [],
   "source": [
    "# Implementar o crop na função plot_chat()\n",
    "im = Image.open('../generated_data/teste.png')\n",
    "box = (im.size[0]*0.202, im.size[1]*0.11, im.size[0]*0.88, im.size[1]*0.85)\n",
    "\n",
    "# Para salvar em PNG\n",
    "print(im.size)\n",
    "im_crop = im.crop(box).save('../generated_data/teste_crop.png')\n",
    "\n",
    "# Para salvar em JPG\n",
    "# im = Image.open('../generated_data/teste.png').convert('RGB')\n",
    "# im_crop = im.crop(box).save('../generated_data/teste_crop.jpg', quality = 95)"
   ]
  },
  {
   "cell_type": "code",
   "execution_count": null,
   "metadata": {},
   "outputs": [],
   "source": []
  }
 ],
 "metadata": {
  "kernelspec": {
   "display_name": "Python 3.7.7 64-bit ('Trade': conda)",
   "language": "python",
   "name": "python_defaultSpec_1597318176475"
  },
  "language_info": {
   "codemirror_mode": {
    "name": "ipython",
    "version": 3
   },
   "file_extension": ".py",
   "mimetype": "text/x-python",
   "name": "python",
   "nbconvert_exporter": "python",
   "pygments_lexer": "ipython3",
   "version": "3.7.7-final"
  }
 },
 "nbformat": 4,
 "nbformat_minor": 4
}